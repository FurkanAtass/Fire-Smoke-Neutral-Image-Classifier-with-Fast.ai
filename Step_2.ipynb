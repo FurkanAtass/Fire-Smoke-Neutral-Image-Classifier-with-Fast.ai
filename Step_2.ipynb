{
  "cells": [
    {
      "cell_type": "code",
      "execution_count": 1,
      "metadata": {
        "id": "uqMuUEfmcEDm"
      },
      "outputs": [],
      "source": [
        "!pip install -Uqq fastbook"
      ]
    },
    {
      "cell_type": "code",
      "execution_count": 2,
      "metadata": {
        "colab": {
          "base_uri": "https://localhost:8080/"
        },
        "id": "II5033VkM1FD",
        "outputId": "d9349505-08a7-4877-ba65-05a9133dbca4"
      },
      "outputs": [
        {
          "name": "stdout",
          "output_type": "stream",
          "text": [
            "Mounted at /content/gdrive\n"
          ]
        }
      ],
      "source": [
        "import fastbook\n",
        "fastbook.setup_book()"
      ]
    },
    {
      "cell_type": "code",
      "execution_count": 3,
      "metadata": {
        "id": "BEpyccNFM8bB"
      },
      "outputs": [],
      "source": [
        "from fastbook import *\n",
        "from fastai.vision.all import *"
      ]
    },
    {
      "cell_type": "code",
      "execution_count": 4,
      "metadata": {
        "id": "j8uhpScx_BTg"
      },
      "outputs": [],
      "source": [
        "path = '/content/gdrive/MyDrive/images/'"
      ]
    },
    {
      "cell_type": "code",
      "execution_count": 5,
      "metadata": {
        "id": "fiFxMAN_Qnw5"
      },
      "outputs": [],
      "source": [
        "import torch\n",
        "from torchvision import datasets, transforms\n",
        "train_size = 200\n",
        "transforms = transforms.Compose([transforms.Resize([train_size, train_size]), transforms.ToTensor()])\n",
        "\n",
        "dataset=datasets.ImageFolder(path,transform=transforms)"
      ]
    },
    {
      "cell_type": "code",
      "execution_count": 6,
      "metadata": {
        "id": "TP5GUA7HRW-G"
      },
      "outputs": [],
      "source": [
        "dataloader = torch.utils.data.DataLoader(dataset,batch_size=32,shuffle=True)  \n",
        "# PyTorch's Dataloader can split data to batches and shuffles them to get different batches for each epoch.\n",
        "# Choosing batch_size as power of 2 will make computation efficient because of computers' architecture."
      ]
    },
    {
      "cell_type": "code",
      "execution_count": 7,
      "metadata": {
        "id": "-pRm6QGHiELy"
      },
      "outputs": [],
      "source": [
        "model = nn.Sequential(nn.Linear(train_size*train_size*3 ,train_size*10),\n",
        "                      nn.ReLU(),\n",
        "                      nn.Linear(train_size*10,train_size),\n",
        "                      nn.ReLU(),\n",
        "                      nn.Linear(train_size, 30),\n",
        "                      nn.ReLU(),\n",
        "                      nn.Linear(30, 3),\n",
        "                      nn.Softmax())\n",
        "\n",
        "loss_func=nn.CrossEntropyLoss()\n",
        "optimizer=SGD(model.parameters(),lr=0.01)     \n",
        "\n",
        "# I have tried different learning rates like 0.001, 0.005, 0.05, 0.07 0.1 and I find the appropriate one is 0.01\n",
        "# I have used CrossEntropyLoss as a loss function because I built multi-class classifier.\n"
      ]
    },
    {
      "cell_type": "code",
      "execution_count": 8,
      "metadata": {
        "id": "WqtEw_0YLQbR"
      },
      "outputs": [],
      "source": [
        "valid_path = \"/content/gdrive/MyDrive/valid/\"\n",
        "valid_data = datasets.ImageFolder(valid_path,transform=transforms)"
      ]
    },
    {
      "cell_type": "code",
      "execution_count": 9,
      "metadata": {
        "id": "rfR8JQnoe_lQ"
      },
      "outputs": [],
      "source": [
        "valid_images = torch.stack([tensor(data[0]) for data in valid_data])\n",
        "valid_labels = tensor([data[1] for data in valid_data])\n",
        "\n",
        "# I used only dataset function (from PyTorch) and stack images and labels of validation set to prepare them for training part"
      ]
    },
    {
      "cell_type": "code",
      "execution_count": 10,
      "metadata": {
        "id": "7TFtbt3Gmfkg"
      },
      "outputs": [],
      "source": [
        "# This accuracy function gives us validation accuracy for visualizing in training part.\n",
        "# If the softmax output of target label is higher than 0.7 (70% correct predicted) it count that as a correct prediction and returns how our model predict over all validation set.\n",
        "\n",
        "def accuracy_func(valid_predictions, valid_labels):     \n",
        "  count = 0\n",
        "  for i in range(len(valid_labels)):\n",
        "    if valid_predictions[i][valid_labels[i]] > 0.7:\n",
        "      count += 1\n",
        "  return count/len(valid_labels)"
      ]
    },
    {
      "cell_type": "code",
      "execution_count": 11,
      "metadata": {
        "colab": {
          "base_uri": "https://localhost:8080/"
        },
        "id": "zd2EOE-YjFTz",
        "outputId": "d6ae8b26-71df-4f86-ac65-c26e2ef47183"
      },
      "outputs": [
        {
          "name": "stderr",
          "output_type": "stream",
          "text": [
            "/usr/local/lib/python3.7/dist-packages/torch/nn/modules/container.py:141: UserWarning: Implicit dimension choice for softmax has been deprecated. Change the call to include dim=X as an argument.\n",
            "  input = module(input)\n"
          ]
        },
        {
          "name": "stdout",
          "output_type": "stream",
          "text": [
            "Epoch Number : 1    Train Loss : 16.382080078125    Validation Loss : 1.0979716777801514    Accuracy : 0.00\n",
            "Epoch Number : 2    Train Loss : 16.22357749938965    Validation Loss : 1.09242844581604    Accuracy : 0.00\n",
            "Epoch Number : 3    Train Loss : 16.096935272216797    Validation Loss : 1.0883421897888184    Accuracy : 0.00\n",
            "Epoch Number : 4    Train Loss : 16.001502990722656    Validation Loss : 1.0823872089385986    Accuracy : 0.00\n",
            "Epoch Number : 5    Train Loss : 15.48186206817627    Validation Loss : 1.1115056276321411    Accuracy : 0.00\n",
            "Epoch Number : 6    Train Loss : 15.534997940063477    Validation Loss : 1.0635920763015747    Accuracy : 0.00\n",
            "Epoch Number : 7    Train Loss : 15.303023338317871    Validation Loss : 1.0586477518081665    Accuracy : 0.00\n",
            "Epoch Number : 8    Train Loss : 14.78515911102295    Validation Loss : 1.043380618095398    Accuracy : 0.03\n",
            "Epoch Number : 9    Train Loss : 14.806703567504883    Validation Loss : 1.050204873085022    Accuracy : 0.00\n",
            "Epoch Number : 10    Train Loss : 14.807260513305664    Validation Loss : 1.0202018022537231    Accuracy : 0.07\n",
            "Epoch Number : 11    Train Loss : 14.61558723449707    Validation Loss : 1.0132396221160889    Accuracy : 0.07\n",
            "Epoch Number : 12    Train Loss : 14.467323303222656    Validation Loss : 1.0728052854537964    Accuracy : 0.17\n",
            "Epoch Number : 13    Train Loss : 14.037342071533203    Validation Loss : 1.0597597360610962    Accuracy : 0.30\n",
            "Epoch Number : 14    Train Loss : 14.432781219482422    Validation Loss : 1.0357495546340942    Accuracy : 0.23\n",
            "Epoch Number : 15    Train Loss : 16.1553955078125    Validation Loss : 1.0101162195205688    Accuracy : 0.20\n",
            "Epoch Number : 16    Train Loss : 13.694171905517578    Validation Loss : 0.9905274510383606    Accuracy : 0.27\n",
            "Epoch Number : 17    Train Loss : 13.308770179748535    Validation Loss : 0.9893435835838318    Accuracy : 0.30\n",
            "Epoch Number : 18    Train Loss : 13.663590431213379    Validation Loss : 1.0499329566955566    Accuracy : 0.23\n",
            "Epoch Number : 19    Train Loss : 13.583118438720703    Validation Loss : 1.0634453296661377    Accuracy : 0.23\n",
            "Epoch Number : 20    Train Loss : 12.78940486907959    Validation Loss : 0.9758565425872803    Accuracy : 0.33\n",
            "Epoch Number : 21    Train Loss : 12.732531547546387    Validation Loss : 1.052651286125183    Accuracy : 0.27\n",
            "Epoch Number : 22    Train Loss : 12.686768531799316    Validation Loss : 1.0370513200759888    Accuracy : 0.30\n",
            "Epoch Number : 23    Train Loss : 12.432400703430176    Validation Loss : 1.001921534538269    Accuracy : 0.30\n",
            "Epoch Number : 24    Train Loss : 12.409263610839844    Validation Loss : 0.9614008665084839    Accuracy : 0.40\n",
            "Epoch Number : 25    Train Loss : 12.079143524169922    Validation Loss : 0.9683657884597778    Accuracy : 0.37\n",
            "Epoch Number : 26    Train Loss : 12.019843101501465    Validation Loss : 0.991632878780365    Accuracy : 0.40\n",
            "Epoch Number : 27    Train Loss : 11.95554256439209    Validation Loss : 0.9735571146011353    Accuracy : 0.33\n",
            "Epoch Number : 28    Train Loss : 12.545984268188477    Validation Loss : 1.1126452684402466    Accuracy : 0.37\n",
            "Epoch Number : 29    Train Loss : 15.248212814331055    Validation Loss : 1.0194090604782104    Accuracy : 0.43\n",
            "Epoch Number : 30    Train Loss : 13.841547966003418    Validation Loss : 1.0415928363800049    Accuracy : 0.37\n",
            "Epoch Number : 31    Train Loss : 12.804323196411133    Validation Loss : 1.0864773988723755    Accuracy : 0.27\n",
            "Epoch Number : 32    Train Loss : 13.35925006866455    Validation Loss : 1.0945773124694824    Accuracy : 0.23\n",
            "Epoch Number : 33    Train Loss : 11.835237503051758    Validation Loss : 0.9623193740844727    Accuracy : 0.50\n",
            "Epoch Number : 34    Train Loss : 12.553635597229004    Validation Loss : 1.0497305393218994    Accuracy : 0.43\n",
            "Epoch Number : 35    Train Loss : 13.507315635681152    Validation Loss : 0.9671702980995178    Accuracy : 0.50\n",
            "Epoch Number : 36    Train Loss : 12.369585037231445    Validation Loss : 0.9575912356376648    Accuracy : 0.50\n",
            "Epoch Number : 37    Train Loss : 11.3823881149292    Validation Loss : 1.0039842128753662    Accuracy : 0.43\n",
            "Epoch Number : 38    Train Loss : 11.46109390258789    Validation Loss : 0.9639339447021484    Accuracy : 0.50\n",
            "Epoch Number : 39    Train Loss : 11.9191312789917    Validation Loss : 1.085429310798645    Accuracy : 0.37\n",
            "Epoch Number : 40    Train Loss : 13.159256935119629    Validation Loss : 0.9957754611968994    Accuracy : 0.43\n",
            "Epoch Number : 41    Train Loss : 11.343177795410156    Validation Loss : 0.9733852744102478    Accuracy : 0.47\n",
            "Epoch Number : 42    Train Loss : 11.146718978881836    Validation Loss : 0.9690141677856445    Accuracy : 0.50\n",
            "Epoch Number : 43    Train Loss : 11.03952693939209    Validation Loss : 0.9779719114303589    Accuracy : 0.50\n",
            "Epoch Number : 44    Train Loss : 11.3829927444458    Validation Loss : 1.1704823970794678    Accuracy : 0.27\n",
            "Epoch Number : 45    Train Loss : 12.350030899047852    Validation Loss : 1.1575614213943481    Accuracy : 0.30\n",
            "Epoch Number : 46    Train Loss : 11.884501457214355    Validation Loss : 0.9944361448287964    Accuracy : 0.47\n",
            "Epoch Number : 47    Train Loss : 11.013251304626465    Validation Loss : 0.9935827851295471    Accuracy : 0.40\n",
            "Epoch Number : 48    Train Loss : 10.98160171508789    Validation Loss : 1.004263997077942    Accuracy : 0.43\n",
            "Epoch Number : 49    Train Loss : 10.897699356079102    Validation Loss : 0.980546236038208    Accuracy : 0.50\n",
            "Epoch Number : 50    Train Loss : 11.595894813537598    Validation Loss : 1.072401523590088    Accuracy : 0.40\n",
            "Epoch Number : 51    Train Loss : 12.445758819580078    Validation Loss : 0.9944925308227539    Accuracy : 0.43\n",
            "Epoch Number : 52    Train Loss : 10.770967483520508    Validation Loss : 0.99282306432724    Accuracy : 0.43\n",
            "Epoch Number : 53    Train Loss : 10.951119422912598    Validation Loss : 1.0608350038528442    Accuracy : 0.43\n",
            "Epoch Number : 54    Train Loss : 12.879901885986328    Validation Loss : 0.9681015014648438    Accuracy : 0.47\n",
            "Epoch Number : 55    Train Loss : 10.865306854248047    Validation Loss : 1.154166340827942    Accuracy : 0.30\n",
            "Epoch Number : 56    Train Loss : 12.186651229858398    Validation Loss : 0.9821431636810303    Accuracy : 0.47\n",
            "Epoch Number : 57    Train Loss : 10.792269706726074    Validation Loss : 1.0636557340621948    Accuracy : 0.40\n",
            "Epoch Number : 58    Train Loss : 11.864304542541504    Validation Loss : 1.0146903991699219    Accuracy : 0.40\n",
            "Epoch Number : 59    Train Loss : 10.626494407653809    Validation Loss : 0.9769719839096069    Accuracy : 0.53\n",
            "Epoch Number : 60    Train Loss : 10.932848930358887    Validation Loss : 1.1759307384490967    Accuracy : 0.27\n",
            "Epoch Number : 61    Train Loss : 13.243085861206055    Validation Loss : 1.005100965499878    Accuracy : 0.50\n",
            "Epoch Number : 62    Train Loss : 10.679288864135742    Validation Loss : 0.990567147731781    Accuracy : 0.47\n",
            "Epoch Number : 63    Train Loss : 10.643880844116211    Validation Loss : 0.9979860186576843    Accuracy : 0.50\n",
            "Epoch Number : 64    Train Loss : 11.003451347351074    Validation Loss : 0.9955397248268127    Accuracy : 0.43\n",
            "Epoch Number : 65    Train Loss : 10.46975040435791    Validation Loss : 1.0608829259872437    Accuracy : 0.40\n",
            "Epoch Number : 66    Train Loss : 10.57181167602539    Validation Loss : 1.1515789031982422    Accuracy : 0.30\n",
            "Epoch Number : 67    Train Loss : 12.363363265991211    Validation Loss : 1.177297592163086    Accuracy : 0.27\n",
            "Epoch Number : 68    Train Loss : 11.648158073425293    Validation Loss : 0.9869158864021301    Accuracy : 0.47\n",
            "Epoch Number : 69    Train Loss : 11.542403221130371    Validation Loss : 1.0629925727844238    Accuracy : 0.43\n",
            "Epoch Number : 70    Train Loss : 10.36526107788086    Validation Loss : 0.9785838723182678    Accuracy : 0.47\n",
            "Epoch Number : 71    Train Loss : 10.373419761657715    Validation Loss : 0.9777756333351135    Accuracy : 0.50\n",
            "Epoch Number : 72    Train Loss : 10.41176986694336    Validation Loss : 0.9829825162887573    Accuracy : 0.50\n",
            "Epoch Number : 73    Train Loss : 10.872285842895508    Validation Loss : 1.1533758640289307    Accuracy : 0.40\n",
            "Epoch Number : 74    Train Loss : 17.26421546936035    Validation Loss : 1.1668028831481934    Accuracy : 0.37\n",
            "Epoch Number : 75    Train Loss : 15.391634941101074    Validation Loss : 1.080765962600708    Accuracy : 0.43\n",
            "Epoch Number : 76    Train Loss : 14.09124755859375    Validation Loss : 1.0768284797668457    Accuracy : 0.43\n",
            "Epoch Number : 77    Train Loss : 13.893606185913086    Validation Loss : 1.0815833806991577    Accuracy : 0.43\n",
            "Epoch Number : 78    Train Loss : 14.69809627532959    Validation Loss : 1.0781692266464233    Accuracy : 0.43\n",
            "Epoch Number : 79    Train Loss : 13.730706214904785    Validation Loss : 1.1588126420974731    Accuracy : 0.37\n",
            "Epoch Number : 80    Train Loss : 16.18047523498535    Validation Loss : 1.1178648471832275    Accuracy : 0.37\n",
            "Epoch Number : 81    Train Loss : 13.051950454711914    Validation Loss : 1.0202122926712036    Accuracy : 0.47\n",
            "Epoch Number : 82    Train Loss : 10.39858627319336    Validation Loss : 1.0063002109527588    Accuracy : 0.47\n",
            "Epoch Number : 83    Train Loss : 10.185192108154297    Validation Loss : 0.9776595234870911    Accuracy : 0.53\n",
            "Epoch Number : 84    Train Loss : 10.285889625549316    Validation Loss : 0.998536229133606    Accuracy : 0.53\n",
            "Epoch Number : 85    Train Loss : 10.204219818115234    Validation Loss : 0.989986002445221    Accuracy : 0.50\n",
            "Epoch Number : 86    Train Loss : 10.2736177444458    Validation Loss : 0.9859205484390259    Accuracy : 0.50\n",
            "Epoch Number : 87    Train Loss : 10.0601224899292    Validation Loss : 0.9941469430923462    Accuracy : 0.47\n",
            "Epoch Number : 88    Train Loss : 10.036456108093262    Validation Loss : 0.9958191514015198    Accuracy : 0.47\n",
            "Epoch Number : 89    Train Loss : 10.00548267364502    Validation Loss : 1.00809645652771    Accuracy : 0.47\n",
            "Epoch Number : 90    Train Loss : 9.999666213989258    Validation Loss : 0.9963025450706482    Accuracy : 0.50\n",
            "Epoch Number : 91    Train Loss : 10.030427932739258    Validation Loss : 1.0427645444869995    Accuracy : 0.47\n",
            "Epoch Number : 92    Train Loss : 10.3872709274292    Validation Loss : 1.0068331956863403    Accuracy : 0.50\n",
            "Epoch Number : 93    Train Loss : 10.057171821594238    Validation Loss : 1.0018128156661987    Accuracy : 0.47\n",
            "Epoch Number : 94    Train Loss : 10.020970344543457    Validation Loss : 1.0014806985855103    Accuracy : 0.50\n",
            "Epoch Number : 95    Train Loss : 10.11057186126709    Validation Loss : 0.9684264063835144    Accuracy : 0.50\n",
            "Epoch Number : 96    Train Loss : 10.057265281677246    Validation Loss : 0.9953020811080933    Accuracy : 0.50\n",
            "Epoch Number : 97    Train Loss : 9.919839859008789    Validation Loss : 1.0059185028076172    Accuracy : 0.50\n",
            "Epoch Number : 98    Train Loss : 10.300725936889648    Validation Loss : 1.004292607307434    Accuracy : 0.47\n",
            "Epoch Number : 99    Train Loss : 9.897968292236328    Validation Loss : 0.9871331453323364    Accuracy : 0.53\n",
            "Epoch Number : 100    Train Loss : 9.91156005859375    Validation Loss : 0.9850815534591675    Accuracy : 0.53\n"
          ]
        }
      ],
      "source": [
        "num_epochs = 100\n",
        "\n",
        "for e in range(num_epochs):\n",
        "  epoch_loss = 0\n",
        "  for images, labels in iter(dataloader):\n",
        "    optimizer.zero_grad()\n",
        "\n",
        "    predictions = model.forward(images.view(-1, train_size*train_size*3))   \n",
        "    loss = loss_func(predictions, labels)\n",
        "    loss.backward() \n",
        "    optimizer.step()\n",
        "    \n",
        "    epoch_loss += loss\n",
        "  valid_predictions = model.forward(valid_images.view(-1, train_size*train_size*3))\n",
        "  valid_loss = loss_func(valid_predictions, valid_labels)\n",
        "  valid_accuracy = accuracy_func(valid_predictions, valid_labels)\n",
        "  print(\"Epoch Number : {}    Train Loss : {}    Validation Loss : {}    Accuracy : {:.2f}\".format(e+1, epoch_loss, valid_loss, valid_accuracy))  "
      ]
    },
    {
      "cell_type": "markdown",
      "metadata": {
        "id": "RxgShhi7vEn1"
      },
      "source": [
        "# Compared to Pretrained Model's Outputs (From Step1)\n",
        "Using ResNet18 architecture and pretrained weights, 4 epochs are enough to get good result (low error rate)\n",
        "\n",
        "But in the situation that building our shallow and linear model (not containing convolution), not gives us accurate predictions with 100 epochs.\n",
        "\n",
        "![pt.JPG](data:image/jpeg;base64,/9j/4AAQSkZJRgABAQEAeAB4AAD/4RDuRXhpZgAATU0AKgAAAAgABAE7AAIAAAAMAAAISodpAAQAAAABAAAIVpydAAEAAAAYAAAQzuocAAcAAAgMAAAAPgAAAAAc6gAAAAgAAAAAAAAAAAAAAAAAAAAAAAAAAAAAAAAAAAAAAAAAAAAAAAAAAAAAAAAAAAAAAAAAAAAAAAAAAAAAAAAAAAAAAAAAAAAAAAAAAAAAAAAAAAAAAAAAAAAAAAAAAAAAAAAAAAAAAAAAAAAAAAAAAAAAAAAAAAAAAAAAAAAAAAAAAAAAAAAAAAAAAAAAAAAAAAAAAAAAAAAAAAAAAAAAAAAAAAAAAAAAAAAAAAAAAAAAAAAAAAAAAAAAAAAAAAAAAAAAAAAAAAAAAAAAAAAAAAAAAAAAAAAAAAAAAAAAAAAAAAAAAAAAAAAAAAAAAAAAAAAAAAAAAAAAAAAAAAAAAAAAAAAAAAAAAAAAAAAAAAAAAAAAAAAAAAAAAAAAAAAAAAAAAAAAAAAAAAAAAAAAAAAAAAAAAAAAAAAAAAAAAAAAAAAAAAAAAAAAAAAAAAAAAAAAAAAAAAAAAAAAAAAAAAAAAAAAAAAAAAAAAAAAAAAAAAAAAAAAAAAAAAAAAAAAAAAAAAAAAAAAAAAAAAAAAAAAAAAAAAAAAAAAAAAAAAAAAAAAAAAAAAAAAAAAAAAAAAAAAAAAAAAAAAAAAAAAAAAAAAAAAAAAAAAAAAAAAAAAAAAAAAAAAAAAAAAAAAAAAAAAAAAAAAAAAAAAAAAAAAAAAAAAAAAAAAAAAAAAAAAAAAAAAAAAAAAAAAAAAAAAAAAAAAAAAAAAAAAAAAAAAAAAAAAAAAAAAAAAAAAAAAAAAAAAAAAAAAAAAAAAAAAAAAAAAAAAAAAAAAAAAAAAAAAAAAAAAAAAAAAAAAAAAAAAAAAAAAAAAAAAAAAAAAAAAAAAAAAAAAAAAAAAAAAAAAAAAAAAAAAAAAAAAAAAAAAAAAAAAAAAAAAAAAAAAAAAAAAAAAAAAAAAAAAAAAAAAAAAAAAAAAAAAAAAAAAAAAAAAAAAAAAAAAAAAAAAAAAAAAAAAAAAAAAAAAAAAAAAAAAAAAAAAAAAAAAAAAAAAAAAAAAAAAAAAAAAAAAAAAAAAAAAAAAAAAAAAAAAAAAAAAAAAAAAAAAAAAAAAAAAAAAAAAAAAAAAAAAAAAAAAAAAAAAAAAAAAAAAAAAAAAAAAAAAAAAAAAAAAAAAAAAAAAAAAAAAAAAAAAAAAAAAAAAAAAAAAAAAAAAAAAAAAAAAAAAAAAAAAAAAAAAAAAAAAAAAAAAAAAAAAAAAAAAAAAAAAAAAAAAAAAAAAAAAAAAAAAAAAAAAAAAAAAAAAAAAAAAAAAAAAAAAAAAAAAAAAAAAAAAAAAAAAAAAAAAAAAAAAAAAAAAAAAAAAAAAAAAAAAAAAAAAAAAAAAAAAAAAAAAAAAAAAAAAAAAAAAAAAAAAAAAAAAAAAAAAAAAAAAAAAAAAAAAAAAAAAAAAAAAAAAAAAAAAAAAAAAAAAAAAAAAAAAAAAAAAAAAAAAAAAAAAAAAAAAAAAAAAAAAAAAAAAAAAAAAAAAAAAAAAAAAAAAAAAAAAAAAAAAAAAAAAAAAAAAAAAAAAAAAAAAAAAAAAAAAAAAAAAAAAAAAAAAAAAAAAAAAAAAAAAAAAAAAAAAAAAAAAAAAAAAAAAAAAAAAAAAAAAAAAAAAAAAAAAAAAAAAAAAAAAAAAAAAAAAAAAAAAAAAAAAAAAAAAAAAAAAAAAAAAAAAAAAAAAAAAAAAAAAAAAAAAAAAAAAAAAAAAAAAAAAAAAAAAAAAAAAAAAAAAAAAAAAAAAAAAAAAAAAAAAAAAAAAAAAAAAAAAAAAAAAAAAAAAAAAAAAAAAAAAAAAAAAAAAAAAAAAAAAAAAAAAAAAAAAAAAAAAAAAAAAAAAAAAAAAAAAAAAAAAAAAAAAAAAAAAAAAAAAAAAAAAAAAAAAAAAAAAAAAAAAAAAAAAAAAAAAAAAAAAAAAAAAAAAAAAAAAAAAAAAAAAAAAAAAAAAAAAAAAAAAAAAAAAAAAAAAAAAAAAAAAAAAAAAAAAAAAAAAAAAAAAAAAAAAAAAAAAAAAAAAAAAAAAAAAAAAAAAAAAAAAAAAAAAAAAAAAAAAAAAAAAAAAAAAAAAAAAAAAAAAAAAAAAAAAAAAAAAAAAAAAAAAAAAAAAAAAAAAAAAAAAAAAAAAAAAAAAAAAAAAAAAAAAAAAAAAAAAAAAAAAAAAAAAAAAAAAAAAAAAAAAAAAAAAAAAAAAAAAAAAAAAAAAAAAAAAAAAAAAAAAAAAAAAAAAAAAAAAAAAAAAAAAAAAAAAAAAAAAAAAAAAAAAAAAAAAAAAAAAAAAAAAAAAAAAAAAAAAAAAAAAAAAAAAAAAAAAAAAAAAAAAAAAAAAAAAAAAAAAAAAAAAAAAAAAAAAAAAAAAAAAAAAAAAAAAAAAAAAAAAAAAAAAAAAAAAAAAAAAAAAAAAAAAAAAAAAAAAAAAAAAAAAAAAAAAAAAAAAAAAAAAAAAAAAAAAAAAAAAAAAAAAAAAAAAAAAAAAAAAAAAAAAAAAAAAAAAAAAAAAAAAAAAAAAAAAAAAAAAAAAAAAAAAAAAAAAAAAAAAAAAAAAAAAAAAAAAAAAAAAAAAAAAAAAAAAAAAAAAAAAAAAAAAAAAAAAAAAAAAAAAAAAAAAAAAAAAAAAAAAAAAAAAAAAAAAAAAAAAAAAAAAAAAAAAAAAAAAAAAAAAAAAAAAAAAAAAAAAAAAAAAAAAAAAAAAAAAAAAAAAAAAAAAAAAAAAAAAAAAAAAAAAAAAAAAAAAAAAAAAAAAAAAAAAAAAAAAEZ1cmthbiBBdGFzAAAFkAMAAgAAABQAABCkkAQAAgAAABQAABC4kpEAAgAAAAM4NgAAkpIAAgAAAAM4NgAA6hwABwAACAwAAAiYAAAAABzqAAAACAAAAAAAAAAAAAAAAAAAAAAAAAAAAAAAAAAAAAAAAAAAAAAAAAAAAAAAAAAAAAAAAAAAAAAAAAAAAAAAAAAAAAAAAAAAAAAAAAAAAAAAAAAAAAAAAAAAAAAAAAAAAAAAAAAAAAAAAAAAAAAAAAAAAAAAAAAAAAAAAAAAAAAAAAAAAAAAAAAAAAAAAAAAAAAAAAAAAAAAAAAAAAAAAAAAAAAAAAAAAAAAAAAAAAAAAAAAAAAAAAAAAAAAAAAAAAAAAAAAAAAAAAAAAAAAAAAAAAAAAAAAAAAAAAAAAAAAAAAAAAAAAAAAAAAAAAAAAAAAAAAAAAAAAAAAAAAAAAAAAAAAAAAAAAAAAAAAAAAAAAAAAAAAAAAAAAAAAAAAAAAAAAAAAAAAAAAAAAAAAAAAAAAAAAAAAAAAAAAAAAAAAAAAAAAAAAAAAAAAAAAAAAAAAAAAAAAAAAAAAAAAAAAAAAAAAAAAAAAAAAAAAAAAAAAAAAAAAAAAAAAAAAAAAAAAAAAAAAAAAAAAAAAAAAAAAAAAAAAAAAAAAAAAAAAAAAAAAAAAAAAAAAAAAAAAAAAAAAAAAAAAAAAAAAAAAAAAAAAAAAAAAAAAAAAAAAAAAAAAAAAAAAAAAAAAAAAAAAAAAAAAAAAAAAAAAAAAAAAAAAAAAAAAAAAAAAAAAAAAAAAAAAAAAAAAAAAAAAAAAAAAAAAAAAAAAAAAAAAAAAAAAAAAAAAAAAAAAAAAAAAAAAAAAAAAAAAAAAAAAAAAAAAAAAAAAAAAAAAAAAAAAAAAAAAAAAAAAAAAAAAAAAAAAAAAAAAAAAAAAAAAAAAAAAAAAAAAAAAAAAAAAAAAAAAAAAAAAAAAAAAAAAAAAAAAAAAAAAAAAAAAAAAAAAAAAAAAAAAAAAAAAAAAAAAAAAAAAAAAAAAAAAAAAAAAAAAAAAAAAAAAAAAAAAAAAAAAAAAAAAAAAAAAAAAAAAAAAAAAAAAAAAAAAAAAAAAAAAAAAAAAAAAAAAAAAAAAAAAAAAAAAAAAAAAAAAAAAAAAAAAAAAAAAAAAAAAAAAAAAAAAAAAAAAAAAAAAAAAAAAAAAAAAAAAAAAAAAAAAAAAAAAAAAAAAAAAAAAAAAAAAAAAAAAAAAAAAAAAAAAAAAAAAAAAAAAAAAAAAAAAAAAAAAAAAAAAAAAAAAAAAAAAAAAAAAAAAAAAAAAAAAAAAAAAAAAAAAAAAAAAAAAAAAAAAAAAAAAAAAAAAAAAAAAAAAAAAAAAAAAAAAAAAAAAAAAAAAAAAAAAAAAAAAAAAAAAAAAAAAAAAAAAAAAAAAAAAAAAAAAAAAAAAAAAAAAAAAAAAAAAAAAAAAAAAAAAAAAAAAAAAAAAAAAAAAAAAAAAAAAAAAAAAAAAAAAAAAAAAAAAAAAAAAAAAAAAAAAAAAAAAAAAAAAAAAAAAAAAAAAAAAAAAAAAAAAAAAAAAAAAAAAAAAAAAAAAAAAAAAAAAAAAAAAAAAAAAAAAAAAAAAAAAAAAAAAAAAAAAAAAAAAAAAAAAAAAAAAAAAAAAAAAAAAAAAAAAAAAAAAAAAAAAAAAAAAAAAAAAAAAAAAAAAAAAAAAAAAAAAAAAAAAAAAAAAAAAAAAAAAAAAAAAAAAAAAAAAAAAAAAAAAAAAAAAAAAAAAAAAAAAAAAAAAAAAAAAAAAAAAAAAAAAAAAAAAAAAAAAAAAAAAAAAAAAAAAAAAAAAAAAAAAAAAAAAAAAAAAAAAAAAAAAAAAAAAAAAAAAAAAAAAAAAAAAAAAAAAAAAAAAAAAAAAAAAAAAAAAAAAAAAAAAAAAAAAAAAAAAAAAAAAAAAAAAAAAAAAAAAAAAAAAAAAAAAAAAAAAAAAAAAAAAAAAAAAAAAAAAAAAAAAAAAAAAAAAAAAAAAAAAAAAAAAAAAAAAAAAAAAAAAAAAAAAAAAAAAAAAAAAAAAAAAAAAAAAAAAAAAAAAAAAAAAAAAAAAAAAAAAAAAAAAAAAAAAAAAAAAAAAAAAAAAAAAAAAAAAAAAAAAAAAAAAAAAAAAAAAAAAAAAAAAAAAAAAAAAAAAAAAAAAAAAAAAAAAAAAAAAAAAAAAAAAAAAAAAAAAAAAAAAAAAAAAAAAAAAAAAAAAAAAAAAAAAAAAAAAAAAAAAAAAAAAAAAAAAAAAAAAAAAAAAAAAAAAAAAAAAAAAAAAAAAAAAAAAAAAAAAAAAAAAAAAAAAAAAAAAAAAAAAAAAAAAAAAAAAAAAAAAAAAAAAAAAAAAAAAAAAAAAAAAAAAAAAAAAAAAAAAAAAAAAAAAAAAAAAAAAAAAAAAAAAAAAAAAAAAAAAAAAAAAAAAAAAAAAAAAAAAAAAAAAAAAAAAAAAAAAAAAAAAAAAAAAAAAAAAAAAAAAAAAAAAAAAAAAAAAAAAAAAAAAAAAAAAAAAAAAAAAAAAAAAAAAAAAAAAAAAAAAAAAAAAAAAAAAAAAAAAAAAAAAAAAAAAAAAAAAAAAAAAAAAAAAAAAAAAAAAAAAAAAAAAAAAAAAAAAAAAAAAAAAAAAAAAAAAAAAAAAAAAAAAAAAAAAAAAAAAAAAAAAAAAAAAAAAAAAAAAAAAAAAAAAAAAAAAAAAAAAAAAAAAAAAAAAAAAAAAAAAAAAAAAAAAAAAAAAAAAAAAAAAAAAAAAAAAAAAAAAAAAAAAAAAAAAAAAAAAAAAAAAAAAAAAAAAAAAAAAAAAAAAAAAAAAAAAAAAAAAAAAAAAAAAAAAAAAAAMjAyMjowNDowNyAyMzozNTo1MgAyMDIyOjA0OjA3IDIzOjM1OjUyAAAARgB1AHIAawBhAG4AIABBAHQAYQBzAAAA/+ELHmh0dHA6Ly9ucy5hZG9iZS5jb20veGFwLzEuMC8APD94cGFja2V0IGJlZ2luPSfvu78nIGlkPSdXNU0wTXBDZWhpSHpyZVN6TlRjemtjOWQnPz4NCjx4OnhtcG1ldGEgeG1sbnM6eD0iYWRvYmU6bnM6bWV0YS8iPjxyZGY6UkRGIHhtbG5zOnJkZj0iaHR0cDovL3d3dy53My5vcmcvMTk5OS8wMi8yMi1yZGYtc3ludGF4LW5zIyI+PHJkZjpEZXNjcmlwdGlvbiByZGY6YWJvdXQ9InV1aWQ6ZmFmNWJkZDUtYmEzZC0xMWRhLWFkMzEtZDMzZDc1MTgyZjFiIiB4bWxuczpkYz0iaHR0cDovL3B1cmwub3JnL2RjL2VsZW1lbnRzLzEuMS8iLz48cmRmOkRlc2NyaXB0aW9uIHJkZjphYm91dD0idXVpZDpmYWY1YmRkNS1iYTNkLTExZGEtYWQzMS1kMzNkNzUxODJmMWIiIHhtbG5zOnhtcD0iaHR0cDovL25zLmFkb2JlLmNvbS94YXAvMS4wLyI+PHhtcDpDcmVhdGVEYXRlPjIwMjItMDQtMDdUMjM6MzU6NTIuODU1PC94bXA6Q3JlYXRlRGF0ZT48L3JkZjpEZXNjcmlwdGlvbj48cmRmOkRlc2NyaXB0aW9uIHJkZjphYm91dD0idXVpZDpmYWY1YmRkNS1iYTNkLTExZGEtYWQzMS1kMzNkNzUxODJmMWIiIHhtbG5zOmRjPSJodHRwOi8vcHVybC5vcmcvZGMvZWxlbWVudHMvMS4xLyI+PGRjOmNyZWF0b3I+PHJkZjpTZXEgeG1sbnM6cmRmPSJodHRwOi8vd3d3LnczLm9yZy8xOTk5LzAyLzIyLXJkZi1zeW50YXgtbnMjIj48cmRmOmxpPkZ1cmthbiBBdGFzPC9yZGY6bGk+PC9yZGY6U2VxPg0KCQkJPC9kYzpjcmVhdG9yPjwvcmRmOkRlc2NyaXB0aW9uPjwvcmRmOlJERj48L3g6eG1wbWV0YT4NCiAgICAgICAgICAgICAgICAgICAgICAgICAgICAgICAgICAgICAgICAgICAgICAgICAgICAgICAgICAgICAgICAgICAgICAgICAgICAgICAgICAgICAgICAgICAgICAgICAgICAKICAgICAgICAgICAgICAgICAgICAgICAgICAgICAgICAgICAgICAgICAgICAgICAgICAgICAgICAgICAgICAgICAgICAgICAgICAgICAgICAgICAgICAgICAgICAgICAgICAgIAogICAgICAgICAgICAgICAgICAgICAgICAgICAgICAgICAgICAgICAgICAgICAgICAgICAgICAgICAgICAgICAgICAgICAgICAgICAgICAgICAgICAgICAgICAgICAgICAgICAgCiAgICAgICAgICAgICAgICAgICAgICAgICAgICAgICAgICAgICAgICAgICAgICAgICAgICAgICAgICAgICAgICAgICAgICAgICAgICAgICAgICAgICAgICAgICAgICAgICAgICAKICAgICAgICAgICAgICAgICAgICAgICAgICAgICAgICAgICAgICAgICAgICAgICAgICAgICAgICAgICAgICAgICAgICAgICAgICAgICAgICAgICAgICAgICAgICAgICAgICAgIAogICAgICAgICAgICAgICAgICAgICAgICAgICAgICAgICAgICAgICAgICAgICAgICAgICAgICAgICAgICAgICAgICAgICAgICAgICAgICAgICAgICAgICAgICAgICAgICAgICAgCiAgICAgICAgICAgICAgICAgICAgICAgICAgICAgICAgICAgICAgICAgICAgICAgICAgICAgICAgICAgICAgICAgICAgICAgICAgICAgICAgICAgICAgICAgICAgICAgICAgICAKICAgICAgICAgICAgICAgICAgICAgICAgICAgICAgICAgICAgICAgICAgICAgICAgICAgICAgICAgICAgICAgICAgICAgICAgICAgICAgICAgICAgICAgICAgICAgICAgICAgIAogICAgICAgICAgICAgICAgICAgICAgICAgICAgICAgICAgICAgICAgICAgICAgICAgICAgICAgICAgICAgICAgICAgICAgICAgICAgICAgICAgICAgICAgICAgICAgICAgICAgCiAgICAgICAgICAgICAgICAgICAgICAgICAgICAgICAgICAgICAgICAgICAgICAgICAgICAgICAgICAgICAgICAgICAgICAgICAgICAgICAgICAgICAgICAgICAgICAgICAgICAKICAgICAgICAgICAgICAgICAgICAgICAgICAgICAgICAgICAgICAgICAgICAgICAgICAgICAgICAgICAgICAgICAgICAgICAgICAgICAgICAgICAgICAgICAgICAgICAgICAgIAogICAgICAgICAgICAgICAgICAgICAgICAgICAgICAgICAgICAgICAgICAgICAgICAgICAgICAgICAgICAgICAgICAgICAgICAgICAgICAgICAgICAgICAgICAgICAgICAgICAgCiAgICAgICAgICAgICAgICAgICAgICAgICAgICAgICAgICAgICAgICAgICAgICAgICAgICAgICAgICAgICAgICAgICAgICAgICAgICAgICAgICAgICAgICAgICAgICAgICAgICAKICAgICAgICAgICAgICAgICAgICAgICAgICAgICAgICAgICAgICAgICAgICAgICAgICAgICAgICAgICAgICAgICAgICAgICAgICAgICAgICAgICAgICAgICAgICAgICAgICAgIAogICAgICAgICAgICAgICAgICAgICAgICAgICAgICAgICAgICAgICAgICAgICAgICAgICAgICAgICAgICAgICAgICAgICAgICAgICAgICAgICAgICAgICAgICAgICAgICAgICAgCiAgICAgICAgICAgICAgICAgICAgICAgICAgICAgICAgICAgICAgICAgICAgICAgICAgICAgICAgICAgICAgICAgICAgICAgICAgICAgICAgICAgICAgICAgICAgICAgICAgICAKICAgICAgICAgICAgICAgICAgICAgICAgICAgICAgICAgICAgICAgICAgICAgICAgICAgICAgICAgICAgICAgICAgICAgICAgICAgICAgICAgICAgICAgICAgICAgICAgICAgIAogICAgICAgICAgICAgICAgICAgICAgICAgICAgICAgICAgICAgICAgICAgICAgICAgICAgICAgICAgICAgICAgICAgICAgICAgICAgICAgICAgICAgICAgICAgICAgICAgICAgCiAgICAgICAgICAgICAgICAgICAgICAgICAgICAgICAgICAgICAgICAgICAgICAgICAgICAgICAgICAgICAgICAgICAgICAgICAgICAgICAgICAgICAgICAgICAgICAgICAgICAKICAgICAgICAgICAgICAgICAgICAgICAgICAgICAgICAgICAgICAgICAgICAgICAgICAgICAgICAgICAgICAgICAgICAgICAgICAgICAgICAgICAgICAgICAgICAgICAgICAgIAogICAgICAgICAgICAgICAgICAgICAgICAgICAgPD94cGFja2V0IGVuZD0ndyc/Pv/bAEMABwUFBgUEBwYFBggHBwgKEQsKCQkKFQ8QDBEYFRoZGBUYFxseJyEbHSUdFxgiLiIlKCkrLCsaIC8zLyoyJyorKv/bAEMBBwgICgkKFAsLFCocGBwqKioqKioqKioqKioqKioqKioqKioqKioqKioqKioqKioqKioqKioqKioqKioqKioqKv/AABEIARcB8QMBIgACEQEDEQH/xAAfAAABBQEBAQEBAQAAAAAAAAAAAQIDBAUGBwgJCgv/xAC1EAACAQMDAgQDBQUEBAAAAX0BAgMABBEFEiExQQYTUWEHInEUMoGRoQgjQrHBFVLR8CQzYnKCCQoWFxgZGiUmJygpKjQ1Njc4OTpDREVGR0hJSlNUVVZXWFlaY2RlZmdoaWpzdHV2d3h5eoOEhYaHiImKkpOUlZaXmJmaoqOkpaanqKmqsrO0tba3uLm6wsPExcbHyMnK0tPU1dbX2Nna4eLj5OXm5+jp6vHy8/T19vf4+fr/xAAfAQADAQEBAQEBAQEBAAAAAAAAAQIDBAUGBwgJCgv/xAC1EQACAQIEBAMEBwUEBAABAncAAQIDEQQFITEGEkFRB2FxEyIygQgUQpGhscEJIzNS8BVictEKFiQ04SXxFxgZGiYnKCkqNTY3ODk6Q0RFRkdISUpTVFVWV1hZWmNkZWZnaGlqc3R1dnd4eXqCg4SFhoeIiYqSk5SVlpeYmZqio6Slpqeoqaqys7S1tre4ubrCw8TFxsfIycrS09TV1tfY2dri4+Tl5ufo6ery8/T19vf4+fr/2gAMAwEAAhEDEQA/APpGiiigAooriJfivoMWqm3NrqpsVn+zNq62TfYlk3bdpl/3uM4x70buwdLnb0Vwur/FnRdI1rUtKOm6ze3emFftCWVn5oVCgYyZDYCAEZJwfY1d1P4k6Fp+m6ZdWqXuqyarH5tnaabbGaeVAMltnGAO+cd/SjpcOtjraK5O2+JXhyfwnd+IZbia0trKQw3MNxCUmhl4HllOu7kcDP8AOsnWPHQ1v4e+JpdPsNb0S8tNOklia/tWtnI2nbJGwPqOoORSk7JvsNatHoVFee+B/ibperJomiyx6mLu6s18q+urdlhvJEQeYEkY5Yg5ycY969Cq5RsyYu6CiivLNf8Airf6Z8R7LSoPDviCSxjW4WeGLTQ0l4y8K8PzfMg6kjHap62H0uep0Vy2o/EDTNIXSf7TtNRtX1W3kniiktx5kexQTG6ZyHO4KFAPPFV7P4k2Go+G7zVrHRtcuJbG4FtcaZHZZvI3OOse7pg560f1+gHY0VyuifECw1221LydL1i1vtNh86bTLuzMd0ykErtTPzbsEDnrj1ql4B8WTeJ9X8QCZ9TiFrNEEsNS0+O2ktAyk7flYl84zlsdqA6XO3orzy2+NXhu6mhC2errA1z9lmu2s/3FtJu2hZHDYGeoxng84r0OjpcNnYKK4X4s6ZcTeDL3V7LXNX0u40u2lmjXTrswpMcD/WADLAY45HU1p/8ACUWXh34f6Zq+u3ErB7WBeAZJZ5WQYVR1Zif8aFs32t+N/wDIOqXe/wCFv8zp6K5HRPiTourtfR3NvqGjXNhbm6ntdVtTBKsI6yAZOV+nNO8NfEPT/FF+ttaaVrVpHKhktrq9sWiguVHOY3yc8c844oA6yiuM/wCFn6Q/iCXTLXT9Yu4oLn7LPqNtYs9rBLnBVnHTBIzxjmuzo6XDrYKKKxpfE9nB4yg8NTRXCXdzatdQzFV8qQKcMoOc7h1xjp3o62Dpc2aK5aTx7afZ9blsdJ1fUho10tpKtjbLK00hxuEahsttyN2cY96Zoni+w8bRalpEcGs6HfpB+8hvIDbXMaOCBInXHPQ9jijdaBs9TrKK86+G0d5p/i/xho1zrOp6rb6fPbLBJqV0Z5FDRljyeByewHQVPB42mvvivbaH5etabCIp0+zXemRpDeMmf3qTF9230wuDkZxT6pLqr/hcV9G30dvxsd9RXD+M/iLYaLJfaNZ2eralqcdqzyrpdqZfsgZTteRsjb6+o61ofDW7ub/4aaFdX1xLc3EtorSTTOXdzzySeSaS1u/66/5DejS/rp/mdRRWZ4g0b+39HksP7S1DTN7K32nTp/JmXBzgNg8HvXKfCrVZR8MTfa5qU9wLa4uvNu72YyMESRuWY+gFK61uHax31FcRpHxX0PVtWtLIWWrWUd++yxvb2yMVvdnsI3zzntkCpP8AhZ+kP4gl0y10/WLuKC5+yz6jbWLPawS5wVZx0wSM8Y5pgdnRXJ+IviHpvh7WhpK6dq2rX4iE0sGlWZnaGMnAZ+RgfnXS2N5FqOn297bbjDcRrKm9SrbWGRkHkHnoaFqrhs7E9FFZuv6/YeGtIk1HVHdYVZUVY0LvI7HCoqjksTxijYNzSorldE+IWm60t+jWGqabeWEBuZbHUrXyJjFz86qTgg4x1qhY/Frw/f32lW8dvqUceqeWkV1JbfuElddyws4JG8gjgZxnk0buwdLnc0Vwd98XtA09LlpbPVZVs7yS1ujBaiQW4RgplchsLGScAnk4PFXNd+Jej6LqAsYLLVNYuVhWeaPSrQz/AGeNhlXc5AUEc+tK6tcdtbHYUVyFz8TvDlva6NdJLPPa6zHNJbTQxZA8pcsrDO7dn5QACSeK0PCnjGw8X2929lb3tnPZzeTc2l9B5U0TYyNy5PUe9VZ3sLon3N+ioby5SysZ7qUMUgjaRgo5IAycflXGWPxa8P399pVvHb6lHHqnlpFdSW37hJXXcsLOCRvII4GcZ5NJauyB6K53NFcVqvxPsdE1We11bQPEVraQTeVJqj6efsg5wG8wN90kjnFYnjD4oX+iePNI0qy0PW5bTzZRc+Vp4c3wEYK/Zzn5gCctjHSha28x23PUKK5e+8e2Gm+H7DUrzTdWjuNQJW20r7GTeyMMkr5QPBAGeuMY9au+GPFdh4rs55bKK6tZraTyrmzvYTFNA+MgMp6ZBzxmnbfyF0T7m3RRVPVtQ/srSbi++yXV75Cbvs9nF5k0nsq5GTUt2Vw3LlFeXeAPihqHiDV76x1LQdcffqksME66cFhs4gBiOZgflcc5znqK0x42mu/itY6EI9a02ELcIYbrTI1gvigP7xJi+7aO2F5yM4qrXt5/5XB6X8jvqK4PVvi/4e0XXbnSru11RprW4FtLJDaeZGrlNyDIPVuQoxklTwBzVofFDRG8M2mrx22pSSXk0lvBpsdqXu3lQnenlg9RjnnFLpcOtjsqKxPDHiuw8V2c8tlFdWs1tJ5VzZ3sJimgfGQGU9Mg54zW3RsAUUUUAFFFFABRRRQAhG5SPUY4rwKx+Ekuk3xsNT+HcPiKP7ScaxFrrWxMRbgtFuHzKD2HOO/WvfqKFpLmQX0seMR3fiaH4j+PrLwr4fh1M3clvFJczXqQrakwYBKnlxyTgelXbbwL4j8Dz+HNU8OWcGv3GnaY+n3dm1yIC25zJvjdhgfMSOecAevHpVjoenadqmoajZW/l3epMj3Um9j5hRdq8E4GB6AVoULRLvp+Ct+rDq+2v53/AER5BcfDfxHqnhjVr+4+y2mv3+sRatHZebvhTy+FiZh1OCckcZxXQ3z+MvFXgbxDYat4Yh0meawkhtYV1BJ2nkZSOowqr06mu+opWVuXp/wLfkh31v1/4N/zPO38K6v/AGv8OZksgItEt5EvyJE/ckwKgGM/N8wI+XNeiUUVbk3/AF3JSskuysFcH420vxFD400LxP4a0mPWTp8M8EtmbtbdiJAMMGbjjFd5RU9bj6WZwGt6FrPiDxp4F1q40hYY7ATy38TXEb/ZXaMbRnI34YdVB6Zq58UdE1vXvCcdr4eVp3W6jkubNLn7ObuAZ3ReZ/DnI/Kuzooeqt8x31v5WPI/APg/W/B2t6/q1p4TgsIbjT0NnpkOp+bulUn920rk4Y8fNjaMj3q14MTxtafEDWNQ1fwX9is9dmieWX+1YZPsgjjK9F5fJx0xjNepUU/+G/G5Nv6+VjyH/hBvEI+Df9hjTsakdX+0mHzo+Y/tG/du3bfu84zmvXqK4e/+DfgPU9RuL6+0Lzbm5laWV/tk43MxyTgPgcntSWi5f62S/Qejbl/W7f6i/E8eJb/w5c6J4b8N/wBqpqNtJFLc/bo4Ps5PA+V/vd+hHSsO80Lxb4g8C6L52hQ6Xq/hy+t57eznvUmS9WJAPvLwhOTgHpjr3rvvDvhnSfCelf2boFp9ktPMMnl+Y7/McZOWJPYd61aFpt5fhqG+/n+J5pYaD4o17xXf+Kdf0Oy0yZdIfTrTS5rsXCzEsWJldBjac4wOx9uc/wAEeFPFGl+Nra4ttGk8LaDCkgurA6z9thuWI+Uxp/Ac85Pb8j63RTWjuv63/wAweqs/6/qx41rXg/xbN4vmufDPh5NBu5rwSy65Z6yRBOgbP7y2xkkjqMcnPWvZR0560UUlpGwPV3CuQ8f6Jqd5HpWteG7VbrWNGuxNDCXVPOjYbZI9zEAZU55P8NdfRSauNHlup+BvEMHwftNI0nMuqvcreapDHciFrwuxaaPzOgySBnOMLVHwJ4N1vwh4k1nWbPwhBp8E+lgWumxap5xaYNny2lcnDHHXG0ZHvXsFFVs21/WliWrqz/rW55d4LTxtZ/EDWNQ1fwX9is9dmieWb+1YZPsgjjK9F5fJx0xjNV9Zfx9c/EfTtetvAPmQaVHcW8a/2zAPtCvwHyeV4GcYPWvWaKWzT7f5W/ILb+f+dzy2+0Dxjpfi3xLLoGj2l9a+Joo83U94I/sTCMoQy/ecc8bfzrsPh/pV5onw/wBG03VIfIu7a2WOWPcG2t6ZUkH8DXRVyviL4Z+EvFmq/wBpeINJ+13fliPzPtMqfKM4GFYDue1Gyt6fhew93f8ArW3+Rq+Ir/V9N0rz/D+if21d+YF+y/a0t/lOctvbjj096858H+G/Fc/w/wBX8HeINAGjxXUNy0V+b6KYF5XJCFEyQBu657e9dz4Y8BeGvBs1xL4b037E9yqrKfPkk3AZx99jjqeldFS5Vr56Du9PI8mt/D3jTxCfDGjeINDtNJ0/w9cw3El9HerKbswrhQiAZTPfd/8AWqnrXg/xbN4vmufDPh5NBu5rwSy65Z6yRBOgbP7y2xkkjqMcnPWvZaKq7vf5/l/kTbS3y/r7zy74j+GdZ1XXBd6P4VF7d+QI7bWbLWPsNxanH8YPDgHkdeMjiu98M2uqWPhfT7bX7pbvUooFW5nXkO/17/Xv1rUopLRWG9XcK4v4p+D7nxn4Tis7FIpp7W7jultppCiXAXIMZYcjIY8/qOtdpRSauNOx5R4K8Ff2cusSR/Dz/hGLqXT5LeKYa39s8/d1TaWIXkKcmut+Gmh3Xhv4c6TpepWq2t5BG3nxBlbDF2PVSQevrXVUVV/0/C/+ZNv6+7/I4n4deG7/AEG68UTapZrbvqOszXED71YyQn7p+UnHU8HB56VmX2l+LvC/jvXdY8MaHba9ba8sJYPeLbtayRptydw+Zec4HP07+k0VP+VvkVffz1/U8i074Z6tpMvw/geCO9j0i5urnUZVdQkTyYZdoYgsA3AwO2eK9dorD8T+DdB8ZW0Fv4ksPtkVu5eJfOkj2sRgn5GGfxptu1kLd3f9bv8AU0NXgkutEvreBd0stvIiLnGWKkAc1g/DTQ7rw38OdJ0vUrVbW8gjbz4gythi7HqpIPX1qDRfhR4L8O6xBqmj6L9nvbckxS/apn25BB4ZyDwT1FdjRor262/C/wDmJ628v1/4Y+ffFHwv8V61ca79p8PR6nqEt081nrU2rkYh3ArCkGQAccfNgDJ9q9E8b6Jr76p4W13w9pseqXGiPL5ti1ysDSCSMLw7cDGK76ihaJJdCm7u/r+J5X4/8H6x430/w9rN34chnurEy/a9Am1HZvV8DCzoQNw2g56c+2DufDHw7HoOn3xHg7/hFZZ5VDQf2p9t84KOG3ZO3qRiu4oprS9iXra/QKKKKQzznwpYeK/CvivVtPPh6O90jVNWlvv7Vjv0TyVkA4MRG5iNo6etZuvt49u/iLpmuWngLzbfRvtMMQ/tiBftSyYUPzynAzgg9cV6xRQtLeX+VvyB63v1/wCHPJb/AMGeIrvXp7xdMwkviqx1L/Xx8QRxYdvvdjxjqewrI1X4WazfaPZXFzosOpvY6rfTSaTNe+T9phmfKssiNhW4B5P19D7jRR2t0/4C/Qd77/1v/mcP8MfDseg6ffEeDv8AhFZZ5VDQf2p9t84KOG3ZO3qRiu4oopt3JSsFFFFIYUUUUAFNd9iFtpbHYdf1p1Nk/wBWaAIvtR/54S/mv+NH2o/88JfzX/Gm0UAO+1H/AJ4S/mv+NH2o/wDPCX81/wAabRQA77Uf+eEv5r/jR9qP/PCX81/xptFADvtR/wCeEv5r/jR9qP8Azwl/Nf8AGm0UAO+1H/nhL+a/40faj/zwl/Nf8abRQA77Uf8AnhL+a/40faj/AM8JfzX/ABptFADvtR/54S/mv+NH2o/88JfzX/Gm0UAO+1H/AJ4S/mv+NH2o/wDPCX81/wAabRQA77Uf+eEv5r/jR9qP/PCX81/xptFADvtR/wCeEv5r/jR9qP8Azwl/Nf8AGm0UAO+1H/nhL+a/40faj/zwl/Nf8abRQA77Uf8AnhL+a/40faj/AM8JfzX/ABptFADvtR/54S/mv+NH2o/88JfzX/Gm0UAO+1H/AJ4S/mv+NH2o/wDPCX81/wAabRQA77Uf+eEv5r/jR9qP/PCX81/xptFADvtR/wCeEv5r/jR9qP8Azwl/Nf8AGm0UAO+1H/nhL+a/40faj/zwl/Nf8abRQA77Uf8AnhL+a/40faj/AM8JfzX/ABptFADvtR/54S/mv+NH2o/88JfzX/Gm0UAO+1H/AJ4S/mv+NH2o/wDPCX81/wAabRQA77Uf+eEv5r/jR9qP/PCX81/xptFADvtR/wCeEv5r/jR9qP8Azwl/Nf8AGm0UAO+1H/nhL+a/40faj/zwl/Nf8abRQA77Uf8AnhL+a/40faj/AM8JfzX/ABptFADvtR/54S/mv+NH2o/88JfzX/Gm0UAO+1H/AJ4S/mv+NH2o/wDPCX81/wAabRQA77Uf+eEv5r/jR9qP/PCX81/xptFADvtR/wCeEv5r/jR9qP8Azwl/Nf8AGm0UAO+1H/nhL+a/40faj/zwl/Nf8abRQBOj70DbSuex6/pTqbH/AKsU6gAooooAKbJ/qzTqbJ/qzQBBRRRQAUUUUAFZXibWf+Ef8L6jqoi85rSBpEj/AL7Y+UficVq1i+MNJn13wdqmm2ZC3FxbsIS3TeOVz+IFKWw47oxEu/EXhzVdFbXNYj1O21af7LNEbZIhbTMjMpjK8lcqVw2TyDmu1rg5bu98Yat4fg/sTUdPTTbsX19JewGJUdEZVjQniQlm6rkYHWu8qun9bf1clfp+Ov8AwAooopDCiiigDi9f8R69beL9JsbOw+y6VJqEdtPeTEFrktGz7Y15wo28scc8DvXZkhVJPAAyTXOeLbW4ubzw21vBJKIdYjklMaFvLQRSjccdBkgZPqK1LjUHOqNpUVlcGR7RplunhzbA52hGbP3uc7fQHml9nzu/yQ2veXovzZ514Z8T3Wt3djPd+PZrdr65ZorD+zYhCy+YdsImMeC20AY3bvxrY8Zx+ItIt57+x8YXcb3M4hsNOjsLZt0rnCRhmQnHck9ACe1Ub6bUvEXhK18K/wDCM3Om6l5sKzulr5dnaCORWaSOTO0jC/KqknkA966PULO41H4laV5sEpsdMspblZCh8szuwjUbum4JvOOvzZp2Tsv6ta/9eYr7syNb1PWtIl0TS9Y8TxaTFJaO93rb28SiadcYjG8eWmQWbkZIXjvVM+OtSTwrp4ur61tbm+v5raHVpYcRyW8eT9oWPPLMAAq9CWBAxxWr4gibT/HkOtanpF1q2mmx+zwm2tjctaS7yWPljJw6kDcAcbcHg1z0Ph7UbRrHxFFodwLOy1qa8g0dVHmw20kWwlUzgNvHmbB0z68ULVa/1r/l+H3g1bRf1p/n+P3GjB4vvrDwx4g1G31q316OwjTyTdWxtriCVjjbNGFXCchgcAkZ+taS3ut+GdY0WHWdcXWYdXmNsym2SFopNjOrR7MZT5cENk8g5ql5Gpa5q+v69p2jNHHJpK2Nta6tAYxeyBmY74zghcMFG7HU9qoaVodlea7oz6N4b1LSrfTJTdXcuoRyblIRlWCHzCSRubJ2fJ8o68Uddf63/T+rg9nb+tF+v9WL2r33i/RfD0vibUdUjgljlB/sP7PG0TIX2rEJBlzIQR8wbGT0xXoIOVBxj2ryuz8SSatri6v4q8O+Jj9mlJ07To9GmaK3wcCVjj55CO/Rc8c816qDkZp/ZB7hRRRSAKKKKAOP+IniHXdD8P3T+HNP8yWO1knkvpSBFbKoz0Od7nsuMdzxXWW7F7aJ2OWZASffFYnju2nvPh/rtvaQyTzy2MqRxRIWZ2KnAAHJNXbjUDplrp6tZXlybiWO3Itot/k5H335+VBjk9simtgfT5/oc1JdeJPEF9rVxomrpptvpVw1rb25tUkF1IiqzGQtyFJO0BSDxnJrPvPGV1qcegztrUXhbTNR0/7U99JHG26bj9wHkBRccnkZOOO9WkvdQ8KXuv2X9iajqH2+7e70+S0g8yOQyKoKOw4jIcHlsDHNZunaHL4Pv9Kl1zSbnV7WHR4rOOS0tjcm1nDMZf3YBOHyPmA/hwcVMdl8vvs7/j+g31+f3XVvw/UmfxzqUfhLSzd3trZ3eo3ktumpyw4RrePcftCxk8s6hdq8glhjI4q7pHiHVW0TX7jTdVj8SNY25e2jltTb3azbSfLliCLwcAqQATyPesWDw9qVlFpuvpos/wBlsNanvINHRQZbe1lj2fKmcBg3z7B0zjrxVrVNM1bxZP4j1XSbG7sEuNKjsbeO7Q28l2yyM7ZU4ZQVOwFsdT2pvZ/1bT/Pt1+4Oq/rr/l36feT+G/E19N4h0y3g8TQeJobyCSS/SK3jQ6eVXIPycqC3y7Xy35GmHX/ABJ/wif/AAnH9poLEN9o/sg2ybPsu/H+s+/5mz5s5xnjFPihj1rXfD/9heGr3Rf7Odjdz3Fn9mEcPlspgB/5aZYr93K/LnNUjFqx8AHwCdF1D7eV+w/a/I/0XyN3+u837v8Aq+dv3s8Yp9dPl/X9degl5/P+v66dTa8YrrWmWd3rVt4vvLW3O0W1hBYW8hd2wqRqWUklmPc9/QV0vhy31W18O2cXiG9F9qYTNxOsaoCxOcAKAMDOM45xmsjW7Ce/8aeGrTyJW06xE17LJsJj81FCRKW6Z+dmA/2fauqoWi/r+v6QtdLhRRRSGFFFFAHOeKdS1CK80nR9GnW1u9UndTdNGJPIjRC7sFPBboBnjnoaj8O6hqUHiPUfD2tXg1CW2hiure7MSxvJE5ZcOq4XKsh5AGQRxSeLYLu21TQ9ds7Oe9TTZpBcwW67pDFJGVLKv8RB2nA5IziqOnXNzJrmueL5tI1GO1SxjtrW1NuRc3AjLuxERwRksAoOCcdqF/X9fd+IPb8vv/y/Q1dXt/Eeo62trpt8dH02ODe95HFHLLNKSRsAfIUADJJXnIA6GuZk8W62fCJdr63haHWH0251tbfMccKkg3Gw/KOcKScqDk9Km8Z+I9Rm1G10eDTdft9MntxNe3mn6dJLKQ3SBGUEI2PvN1HQc8iO/igvNG0C50vw3qH9i6ReHz9JlsmilZRGQsixNy+1mBxyScnkikv6+/8Apf1cH5f1p/T/AKsT6T4l1htN8SnTruPxRHptuJLC/iiUC5lKMTCfLwrlSF5TH3sdah8NeJb+48R6Xa2/iaDxNFewu99HFbxodPIXKn5OVBb5dr5b8jVS80fUdf8A+Elu/DmmXGlWt7pyQLDcRm1a9mVyWbYcFcp8m5gCc+gq3FEus674fPh7w3e6I2muxubi4svsyxQ+Wy+QD/y0yxU/Llflzmmt/wCvP+v+CJ7f15f16+Rnt4w1pbhrj+3YDqw1H7OPCv2ZA5i83b/10zs/eb87MdsVqeJ/EN7beKL20uvE8Hhe0trVJbQzQRt9uYg7uZPvBSANiYbnryKw/wCzLgeCW8LnwxenxJ5hxqP2b90Z9+ftf2np/tdd38OK2poV0bxTrk3iHw9ea2upCP7Lc29l9qBjEYUwMBny/mDHnCndnNL7Nv62X9f8Err/AF3/AK/4Ykj13xFrs/h/S1nXw/d3umtf3snkB5AVKr5cayZC5LZO4EgYFbXhXWLu7vdY0fU7iO7u9IuEia5jTZ5yOgdSVHAYZIIHHGeM4rlBotzYeGfD0HifQZ9QtLdZjIbIySXmnsz5iVWiYOVCHY23P3R2roPAWjNYnVtSOnNpcOo3CG2s5BiSOJEChnHOHY7mOTnnnnNX1fz/AD/y/wAye39dP6/I6+s/XtVTQ/DuoarIhdbK2ecoP4tqk4/StCsvxPpT654U1TS4mCSXlpJCjHoGZSB+tZy+F2LjbmVzmUvvEugyaJqGuavHfW+qXEdtdWgtkjW1eUfIY2HzEBsKQxYnOeKqy614mvPD+peLrDU44bSyknaDSmtlKTwwsysXc/OGbYSCCAOODT5LrUfFY0DSpND1GxksbyG61GW6g2RR+TztR+khZwMbcjHJxVNv7W03wfqvgyPRNQuL24e5gs7lIM2zxTOxWRpR8q7Q/IODxwDmqlfXl87fhb8b/ImNtObyv+N/0O2XxPpbyCBbj/SDp41Hyyp/1B/i3Yx17ZzXC+DPEN5rFxpEmoePJmubxFnOnHTYkilyNxiSXyxuIHB2sSMGuyZpbazbw5Y2EkssOl5huLmAtZuQNgjZs8k4yV/unrXM3VxfeKdP0TRYvDl9pd1aXlvPdSS23lQWYhYFvKf7r5xtUJnhucVWnPpt/wAF/wBf8OTrya9v0X5/1sUr/wAU3Fx4m1lJvHEuhWlrfC0hii06KZEwiZaSRo22ZcsBuIHFenwAi3jDy+cwUZkwBvOOvHHNcJe6rqFrY65odx4Tmmu7uSYWpsLP/RbtZMhXkkztRufn3EHjIzwK6zw7p0uj+GdM024l86W0tY4Xk/vFVAJ/Spj8P3flr/XmVL4vv/4Bsx/6sU6mx/6sU6gAooooAKbJ/qzTqRxuUgUAV6Kf5Teoo8pvUUAMop/lN6ijym9RQAyin+U3qKPKb1FADKKf5Teoo8pvUUAMop/lN6ijym9RQAyin+U3qKPKb1FADKKf5Teoo8pvUUAMop/lN6ijym9RQAyin+U3qKPKb1FADKKf5Teoo8pvUUAMop/lN6ijym9RQAyin+U3qKPKb1FADKKf5Teoo8pvUUAMop/lN6ijym9RQAyin+U3qKPKb1FADKKf5Teoo8pvUUAMop/lN6ijym9RQAyin+U3qKPKb1FADKKf5Teoo8pvUUAMop/lN6ijym9RQAyin+U3qKPKb1FADKKf5Teoo8pvUUAMop/lN6ijym9RQAyin+U3qKPKb1FADKKf5Teoo8pvUUAMop/lN6ijym9RQAyin+U3qKPKb1FADKKf5Teoo8pvUUAMop/lN6ijym9RQBJH/qxTqRBtUA0tABRRRQAUUUUAFFFcRL8V9Bi1U25tdVNis/2ZtXWyb7Esm7btMv8AvcZxj3o3dg6XO3orhdX+LOi6RrWpaUdN1m9u9MK/aEsrPzQqFAxkyGwEAIyTg+xq7qfxJ0LT9N0y6tUvdVk1WPzbO0022M08qAZLbOMAd847+lHS4dbHW0Vydt8SvDk/hO78Qy3E1pbWUhhuYbiEpNDLwPLKdd3I4Gf51k6x46Gt/D3xNLp9hreiXlpp0ksTX9q1s5G07ZI2B9R1ByKUnZN9hrVo9Corz3wP8TdL1ZNE0WWPUxd3VmvlX11bssN5IiDzAkjHLEHOTjHvXoVXKNmTF3QUUV5Zr/xVv9M+I9lpUHh3xBJYxrcLPDFpoaS8ZeFeH5vmQdSRjtU9bD6XPU6K5bUfiBpmkLpP9p2mo2r6rbyTxRSW48yPYoJjdM5DncFCgHniq9n8SbDUfDd5q1jo2uXEtjcC2uNMjss3kbnHWPd0wc9aP6/QDsaK5XRPiBYa7bal5Ol6xa32mw+dNpl3ZmO6ZSCV2pn5t2CBz1x61S8A+LJvE+r+IBM+pxC1miCWGpafHbSWgZSdvysS+cZy2O1AdLnb0V55bfGrw3dTQhbPV1ga5+yzXbWf7i2k3bQsjhsDPUYzwecV6HR0uGzsFFcL8WdMuJvBl7q9lrmr6XcaXbSzRrp12YUmOB/rABlgMccjqa0/+EosvDvw/wBM1fXbiVg9rAvAMks8rIMKo6sxP+NC2b7W/G/+QdUu9/wt/mdPRXI6J8SdF1dr6O5t9Q0a5sLc3U9rqtqYJVhHWQDJyv05p3hr4h6f4ov1trTStatI5UMltdXti0UFyo5zG+TnjnnHFAHWUVxn/Cz9IfxBLplrp+sXcUFz9ln1G2sWe1glzgqzjpgkZ4xzXZ0dLh1sFFFY0viezg8ZQeGporhLu5tWuoZiq+VIFOGUHOdw64x070dbB0ubNFctJ49tPs+ty2Ok6vqQ0a6W0lWxtllaaQ43CNQ2W25G7OMe9M0TxfYeNotS0iODWdDv0g/eQ3kBtrmNHBAkTrjnoexxRutA2ep1lFedfDaO80/xf4w0a51nU9Vt9Pntlgk1K6M8ihoyx5PA5PYDoKng8bTX3xXttD8vWtNhEU6fZrvTI0hvGTP71Ji+7b6YXByM4p9Ul1V/wuK+jb6O342O+orh/GfxFsNFkvtGs7PVtS1OO1Z5V0u1Mv2QMp2vI2Rt9fUda0Phrd3N/wDDTQrq+uJbm4ltFaSaZy7ueeSTyTSWt3/XX/Ib0aX9dP8AM6iiszxBo39v6PJYf2lqGmb2VvtOnT+TMuDnAbB4PeuU+FWqyj4Ym+1zUp7gW1xdebd3sxkYIkjcsx9AKV1rcO1jvqK4jSPivoerataWQstWso799lje3tkYre7PYRvnnPbIFSf8LP0h/EEumWun6xdxQXP2WfUbaxZ7WCXOCrOOmCRnjHNMDs6K5PxF8Q9N8Pa0NJXTtW1a/EQmlg0qzM7Qxk4DPyMD866WxvItR0+3vbbcYbiNZU3qVbawyMg8g89DQtVcNnYnoorN1/X7Dw1pEmo6o7rCrKirGhd5HY4VFUclieMUbBuaVFcronxC03Wlv0aw1TTbywgNzLY6la+RMYufnVScEHGOtULH4teH7++0q3jt9Sjj1Ty0iupLb9wkrruWFnBI3kEcDOM8mjd2Dpc7miuDvvi9oGnpctLZ6rKtneSWt0YLUSC3CMFMrkNhYyTgE8nB4q5rvxL0fRdQFjBZaprFysKzzR6VaGf7PGwyrucgKCOfWldWuO2tjsKK5C5+J3hy3tdGuklnntdZjmktpoYsgeUuWVhnduz8oABJPFaHhTxjYeL7e7eyt72zns5vJubS+g8qaJsZG5cnqPeqs72F0T7m/RUN5cpZWM91KGKQRtIwUckAZOPyrjLH4teH7++0q3jt9Sjj1Ty0iupLb9wkrruWFnBI3kEcDOM8mktXZA9Fc7miuK1X4n2OiarPa6toHiK1tIJvKk1R9PP2Qc4DeYG+6SRzisTxh8UL/RPHmkaVZaHrctp5soufK08Ob4CMFfs5z8wBOWxjpQtbeY7bnqFFcvfePbDTfD9hqV5purR3GoErbaV9jJvZGGSV8oHggDPXGMetXfDHiuw8V2c8tlFdWs1tJ5VzZ3sJimgfGQGU9Mg54zTtv5C6J9zbooqnq2of2VpNxffZLq98hN32ezi8yaT2VcjJqW7K4blyivLvAHxQ1DxBq99Y6loOuPv1SWGCddOCw2cQAxHMwPyuOc5z1FaY8bTXfxWsdCEetabCFuEMN1pkawXxQH94kxfdtHbC85GcVVr28/8AK4PS/kd9RXB6t8X/AA9ouu3OlXdrqjTWtwLaWSG08yNXKbkGQerchRjJKngDmrQ+KGiN4ZtNXjttSkkvJpLeDTY7UvdvKhO9PLB6jHPOKXS4dbHZUVieGPFdh4rs55bKK6tZraTyrmzvYTFNA+MgMp6ZBzxmtujYAooooAKKKKACiiigBCNykeoxxXgVj8JJdJvjYan8O4fEUf2k41iLXWtiYi3BaLcPmUHsOcd+te/UULSXMgvpY8Yju/E0PxH8fWXhXw/DqZu5LeKS5mvUhW1JgwCVPLjknA9Ku23gXxH4Hn8Oap4cs4NfuNO0x9Pu7NrkQFtzmTfG7DA+Ykc84A9ePSrHQ9O07VNQ1Gyt/Lu9SZHupN7HzCi7V4JwMD0ArQoWiXfT8Fb9WHV9tfzv+iPILj4b+I9U8Matf3H2W01+/wBYi1aOy83fCnl8LEzDqcE5I4ziuhvn8ZeKvA3iGw1bwxDpM81hJDawrqCTtPIykdRhVXp1Nd9RSsrcvT/gW/JDvrfr/wAG/wCZ52/hXV/7X+HMyWQEWiW8iX5EifuSYFQDGfm+YEfLmvRKKKtyb/ruSlZJdlYK4PxtpfiKHxpoXifw1pMesnT4Z4JbM3a27ESAYYM3HGK7yip63H0szgNb0LWfEHjTwLrVxpCwx2Anlv4muI3+yu0Y2jORvww6qD0zVz4o6JreveE47Xw8rTut1HJc2aXP2c3cAzui8z+HOR+VdnRQ9Vb5jvrfyseR+AfB+t+Dtb1/VrTwnBYQ3GnobPTIdT83dKpP7tpXJwx4+bG0ZHvVrwYnja0+IGsahq/gv7FZ67NE8sv9qwyfZBHGV6Ly+TjpjGa9Sop/8N+Nybf18rHkP/CDeIR8G/7DGnY1I6v9pMPnR8x/aN+7du2/d5xnNevUVw9/8G/Aep6jcX19oXm3NzK0sr/bJxuZjknAfA5PaktFy/1sl+g9G3L+t2/1F+J48S3/AIcudE8N+G/7VTUbaSKW5+3RwfZyeB8r/e79COlYd5oXi3xB4F0XztCh0vV/Dl9bz29nPepMl6sSAfeXhCcnAPTHXvXfeHfDOk+E9K/s3QLT7JaeYZPL8x3+Y4ycsSew71q0LTby/DUN9/P8TzSw0HxRr3iu/wDFOv6HZaZMukPp1ppc12LhZiWLEyugxtOcYHY+3Of4I8KeKNL8bW1xbaNJ4W0GFJBdWB1n7bDcsR8pjT+A55ye35H1uimtHdf1v/mD1Vn/AF/VjxrWvB/i2bxfNc+GfDyaDdzXgll1yz1kiCdA2f3ltjJJHUY5Oeteyjpz1oopLSNgeruFch4/0TU7yPSta8N2q3WsaNdiaGEuqedGw2yR7mIAypzyf4a6+ik1caPLdT8DeIYPg/aaRpOZdVe5W81SGO5ELXhdi00fmdBkkDOcYWqPgTwbrfhDxJrOs2fhCDT4J9LAtdNi1Tzi0wbPltK5OGOOuNoyPevYKKrZtr+tLEtXVn/Wtzy7wWnjaz+IGsahq/gv7FZ67NE8s39qwyfZBHGV6Ly+TjpjGar6y/j65+I+na9beAfMg0qO4t41/tmAfaFfgPk8rwM4wetes0Utmn2/yt+QW38/87nlt9oHjHS/FviWXQNHtL618TRR5up7wR/YmEZQhl+84542/nXYfD/SrzRPh/o2m6pD5F3bWyxyx7g21vTKkg/ga6KuV8RfDPwl4s1X+0vEGk/a7vyxH5n2mVPlGcDCsB3PajZW9PwvYe7v/Wtv8jV8RX+r6bpXn+H9E/tq78wL9l+1pb/Kc5be3HHp715z4P8ADfiuf4f6v4O8QaANHiuoblor830UwLyuSEKJkgDd1z2967nwx4C8NeDZriXw3pv2J7lVWU+fJJuAzj77HHU9K6KlyrXz0Hd6eR5Nb+HvGniE+GNG8QaHaaTp/h65huJL6O9WU3ZhXChEAyme+7/61U9a8H+LZvF81z4Z8PJoN3NeCWXXLPWSIJ0DZ/eW2MkkdRjk5617LRVXd7/P8v8AIm2lvl/X3nl3xH8M6zquuC70fwqL278gR22s2WsfYbi1OP4weHAPI68ZHFd74ZtdUsfC+n22v3S3epRQKtzOvId/r3+vfrWpRSWisN6u4VxfxT8H3PjPwnFZ2KRTT2t3HdLbTSFEuAuQYyw5GQx5/Uda7Sik1cadjyjwV4K/s5dYkj+Hn/CMXUunyW8Uw1v7Z5+7qm0sQvIU5Ndb8NNDuvDfw50nS9StVtbyCNvPiDK2GLseqkg9fWuqoqr/AKfhf/Mm39fd/kcT8OvDd/oN14om1SzW3fUdZmuIH3qxkhP3T8pOOp4ODz0rMvtL8XeF/Heu6x4Y0O216215YSwe8W3a1kjTbk7h8y85wOfp39Joqf8AK3yKvv56/qeRad8M9W0mX4fwPBHex6Rc3VzqMquoSJ5MMu0MQWAbgYHbPFeu0Vh+J/Bug+MraC38SWH2yK3cvEvnSR7WIwT8jDP4023ayFu7v+t3+poavBJdaJfW8C7pZbeREXOMsVIA5rB+Gmh3Xhv4c6TpepWq2t5BG3nxBlbDF2PVSQevrUGi/CjwX4d1iDVNH0X7Pe25Jil+1TPtyCDwzkHgnqK7GjRXt1t+F/8AMT1t5fr/AMMfPvij4X+K9auNd+0+Ho9T1CW6eaz1qbVyMQ7gVhSDIAOOPmwBk+1eieN9E199U8La74e02PVLjRHl82xa5WBpBJGF4duBjFd9RQtEkuhTd3f1/E8r8f8Ag/WPG+n+HtZu/DkM91YmX7XoE2o7N6vgYWdCBuG0HPTn2wdz4Y+HY9B0++I8Hf8ACKyzyqGg/tT7b5wUcNuydvUjFdxRTWl7EvW1+gUUUUhnnPhSw8V+FfFeraefD0d7pGqatLff2rHfonkrIBwYiNzEbR09azdfbx7d/EXTNctPAXm2+jfaYYh/bEC/alkwofnlOBnBB64r1iihaW8v8rfkD1vfr/w55Lf+DPEV3r094umYSXxVY6l/r4+II4sO33ux4x1PYVkar8LNZvtHsri50WHU3sdVvppNJmvfJ+0wzPlWWRGwrcA8n6+h9xoo7W6f8BfoO99/63/zOH+GPh2PQdPviPB3/CKyzyqGg/tT7b5wUcNuydvUjFdxRRTbuSlYKKKKQwooooAKZM7RxFkTew6LnGafTZP9WaAKn2y5/wCfP/yKKPtlz/z5/wDkUVJRQBH9suf+fP8A8iij7Zc/8+f/AJFFSUUAR/bLn/nz/wDIoo+2XP8Az5/+RRUlFAEf2y5/58//ACKKPtlz/wA+f/kUVJRQBH9suf8Anz/8iij7Zc/8+f8A5FFSUUAR/bLn/nz/APIoo+2XP/Pn/wCRRUlFAEf2y5/58/8AyKKPtlz/AM+f/kUVJRQBH9suf+fP/wAiij7Zc/8APn/5FFSUUAR/bLn/AJ8//Ioo+2XP/Pn/AORRUlFAEf2y5/58/wDyKKPtlz/z5/8AkUVJRQBH9suf+fP/AMiij7Zc/wDPn/5FFSUUAR/bLn/nz/8AIoo+2XP/AD5/+RRUlFAEf2y5/wCfP/yKKPtlz/z5/wDkUVJRQBH9suf+fP8A8iij7Zc/8+f/AJFFSUUAR/bLn/nz/wDIoo+2XP8Az5/+RRUlFAEf2y5/58//ACKKPtlz/wA+f/kUVJRQBH9suf8Anz/8iij7Zc/8+f8A5FFSUUAR/bLn/nz/APIoo+2XP/Pn/wCRRUlFAEf2y5/58/8AyKKPtlz/AM+f/kUVJRQBH9suf+fP/wAiij7Zc/8APn/5FFSUUAR/bLn/AJ8//Ioo+2XP/Pn/AORRUlFAEf2y5/58/wDyKKPtlz/z5/8AkUVJRQBH9suf+fP/AMiij7Zc/wDPn/5FFSUUAR/bLn/nz/8AIoo+2XP/AD5/+RRUlFAEf2y5/wCfP/yKKPtlz/z5/wDkUVJRQBH9suf+fP8A8iij7Zc/8+f/AJFFSUUAR/bLn/nz/wDIoo+2XP8Az5/+RRUlFAEf2y5/58//ACKKPtlz/wA+f/kUVJRQBH9suf8Anz/8iij7Zc/8+f8A5FFSUUATQu0kQZ02Meq5zin02P8A1Yp1ABRRRQAU2T/VmnU2T/VmgCCiiigAooooAKxfGGrT6F4O1TUrNQ1xb27GEN03nhc/iRW1WV4n0c+IPC+o6UsnlPdwNGkn9xsfKfwOKUthx3RzMtpe+D9W8PznW9Rv01K7FjfR3s5lV3dGZZEU8RkMvRcDB6V3dcSlr4i8R6roq65o8emW2kz/AGqaX7Skv2mZUZVEYXkLli2WweAMV21V0/rb+rkr9Px1/wCAFFFFIYUUUUAec+TqniDR9c8SRa3qFndWtxcpp8EM+2CNYGZQHj6PuKEktnrxjFdppN6Ne8L2V980Qv7NJf3bFSm9AeD1BGetclJpnifSrHWdA0jSo7q21GeeS11FrpVS2WcksJEPzEqzMRtByMdK6fS4brSJLDRLew3aZa2CoL/zlGHTCiPy+vK5O7pxihaxs/L8nf8AT1YP4rrz/NWOLvvC5/4THTtE0jxH4l8xQL2+kk1iZ1jgBwq4JxuduPYBjVPxXri2viLxCur67q9nPZxxvpcWmyN5MalAQZQgKgl8587C7cY45rtvDmlXdtr3iLU9Sh8uW+vFWAlg2beONVToTjnecHnmslLTxD4ev9bg0/QY9Yg1W6e6huftUcYQuoBSYNyQMcFQ3HGKl3t8r/N2+52/J9x6Xv8A1/wdf60HanBqV3pOnX/iLVriz06CwR7tNGeTzprltoyDECxQZOAp5zk8CsBvEGoS/DPT7241m4Wxl1QwzXkMqfbGtN7BB8v/AC14QMFG/GeM5rf07T/E/g/TtItLGBddsbewW2ntYpI4ZEmBz5iM+AVwdu0sMYBHes6Pwnrtq8PiBbO2m1EatLqUmkrMAgWSLytquRjzAAGycAktz3q3a77f8H/L8NCV8K7/APA/z/EueB9UlubzX4tJvLzU9MtPLFompSt9oWYqS6HzP3gU/LguO5xkVJ4QuPEMnjPxBb+J7yN5Ba2ksdtbFvJtQ5m+Vc9T8oy3GT7AVd0Kw1S78XXniLVbAaUslmlnFaGVZJGCuWLuUJUdcAAnjNW9P027g8ea1qMsW20urS0jhk3A7mQy7hjORjcvUd6PXt/X3/8AA7j6P+u39fichr3hUrr2m6Ho/iTxMt7eMZ55W1iZhb2yEb2xnqxIUe5J7V6ao2qFyTgYyTk1z2j6Vdp411/V7+DYswgtrJywOYUTcTweMu7dcdK6Kkvh/r+v+CD3uFFFFABRRRQBxt7Bc+J/G+oaXJqV/YafpdrCwWwuDA0s0u87mZeSFVRhemSc5q/4H1O61DQ54dRnNzdadez2Mk5UAy+W5AY44yV25x3zVXUbXWdF8X3WtaNpZ1e31G1ihnt0uUieKSMttcbyAVIbB5yMDg0/QbDV/DmiW6mwjvr7UdSe41ARThFthKzMzAsPnCDauByaI/163/yuEv69La/icprV5/aHjDX5buXxY1npzxQBdEuJI44QIw7uwDDcct0Xc2B06Va1/VrJb/QIJ9e1VfD8+nGSCXTp5GuLmQYw0hjzKV285Axu+92reu7rxjp9/qNvb6XHrNvcvvsLj7RHCtsCoHlyqcEgHJBUMSDg1kaT4X1jwPdWVzplh/byf2ZFYzpHMkUsbo7PuTzCFKMXORkEYHWktl/XR/r+Pcb6/wBdV+n9Il8Prr3ijwXpvlay6Wkl3L5t4soF1LaKW8sblBCyH5Qx4IGehzUUN3qem3Hi3TvD+qT31vp+niSCfUZ/N+zXZVyY/Nc8gAIxDE7c84BqC703xlpmgXC6RprG71rU5Lu9SyuolaxhYKNkbyFQXO37wBAJY+lXItF1DVvA+oeGYfDDeG4jB+4ee7inWWTduIfy2LHJHzE8nJ603qn6fp+nluwWjXr+v9fIy/CWtRz+KdGg0HWtXvlurWSXUotXkfawC/K0W8cnecfuspj8KteILHWPD+gDWbvxDfSeJJblVt7WC5Y2szs+FgWEgArt4Jxu4JzxWk9v4g8Q6tosmoaAukRaRObqSQ3UcpmYRsgji2nhTu5LbeAOKyNKbxcmtSa3r3ge7vtTJZbcjUrURWcRPCxqX4JGNzdT9OKe8v6/r/gL5Odl/X9f18xPEl1LqHjrVIpW8USW2nWluvkaDO8YVm3u7thlDHBQYGW9q7zw3PZXPhuxm0q9mvrR4gYri4kZ5HH+0zck9jnnism9u/Fml63em10wa3p9yqtaBbiKBrRwuGR92NyE/NuG4jJGOlXvB+hy+HfC9tp91IktyGeWdox8nmSOXYL/ALILED2FJbDe5t0UUUAFFFFAHL+LZ7u41TRNCs7uayTU5pDcT27bZBFHGWKq38JJ2jI5Azio/Dj3OleL9T8OTX1zfWsdtDe2r3chkljDs6shc8sAUBGcnnrVnxVpuoy3mk6xosC3V3pc7sbVpRH58ToUdQx4DdCM8cdRVLT7bXF1DWvFF1o4W/ltUt7HSjdJvKx7mAeQZRSzN2JAAHNJaf1/Xl+IPb+u/wDl+g/4h3HiKDwzdt4ceC0SO0nmuL2RiXiCJkLGo/ibn5icLjPJxVyfRl8QeHNNN3qep2ZSBJGlsr14GclBncynJ9eas+IbW71TwTqdrDb4vLrT5Y1g3jiRoyAu7gdTjPSqeuWOqSfDa407S4idSfTxbogdVKsVCn5iccZJ69qGrKS9P1Ho+X5/p/wTn/BWgyatYapqB1zXzpmoHybBZdTlaRYkb/XBicqXIOMfw49abpGgO/xEeHTde1+Ww0ZR9s+06pLKk87rlYtpOMKp3H3ZR6132n2UWm6ZbWVsgSG2iWKNR2VRgD9KxfBGlXel+HWOqQ+TqF5dT3d0pZWId5CRypIOF2jr2qtObTZf1/m/UnePr/X/AADk9e8Klde03Q9H8SeJlvbxjPPK2sTMLe2Qje2M9WJCj3JPatHxzosNlZzanHq/iD7ddSJb2lnbatLFHJM2FRQoOAO5PoCa29H0q7Txrr+r38GxZhBbWTlgcwom4ng8Zd2646UatpV3qPjjQblod2nafHcTu5YYE5CpH8ucn5WkOcYFLdJf1/VvxK6t/wBf1f8AA5fXIrjwzp/hjSNZ8Qas9g3mre3VvO7XdzNgMoBXMpTJb7mSBtB4rc+HWoT6jot7Ib2a+sY76SKxmuX3TmIAcSdwwbcPmw2MZqXX7DVLXxZYeItJsF1UQ2slpLaCVY5FDMrB4y5C5+XBBIyMVJ4U0vUIL/WdX1W3Sym1WdJFskkD+SqIEBZhwXOMnGR05NNO92/P8/8AL/Il6WX9bHS1l+J9VbQ/CmqapEgeSztZJkU9CyqSB+dalZ+vaUmueHdQ0qR9i3ttJAXH8O5SM/rUS+F2LjbmVzjpLbUfCn9garLrmo30l9eQ2uoxXUxeKQzcbkTpGVcjG3Axwc1Tb+1tS8H6r4zj1rULe9t3uZ7O2SfFskULsFjaL7rbgnJPPPBGK00sfEuvPomn65pEdhb6XcR3N1di6SRbp4h8gjUfMAWwxLBcYxzVWXRfE1p4e1LwjY6ZHNaXsk6waq10oSGGZmZg6H5yy7yAACDxyKqV9eXzt+Fvxv8AImNtObyv+N/0Ov0/XVv7q2hSxvAtxYpei68r9xhj/q9+fv8AfGOnNc34fu/EsnxGmj8STQxRy6X50OnWzFo7f97j5m/jfHU4x2FdNZ/arLUIdLh07GmQWS7L3zl++Dt8ry+v3QDu6dqqf2bd/wDCxP7T8r/Q/wCyvs/m7h/rPN3YxnPTnOMVWnOmttfyZOvJZ76fmjkPGst9oVve6pqGv6hDqk0zf2TDZu62cKggIJsjy8EnLNIe52nivSoGdreNpCpcqCxQ8Zx29q43U/8AhMHs9V0VtKh1WO9MqWuoNPHHFFFJkBZU+8SgOPlB3ADkHNdRounf2RoNhpvmtN9jto4PMbq+1QufxxUx+H7v6/z7lS+L7/6/rY1I/wDVinU2P/VinUAFFFFABTZP9WadSONykCgCvRT/ACm9RR5TeooAZRT/ACm9RR5TeooAZRT/ACm9RR5TeooAZRT/ACm9RR5TeooAZRT/ACm9RR5TeooAZRT/ACm9RR5TeooAZRT/ACm9RR5TeooAZRT/ACm9RR5TeooAZRT/ACm9RR5TeooAZRT/ACm9RR5TeooAZRT/ACm9RR5TeooAZRT/ACm9RR5TeooAZRT/ACm9RR5TeooAZRT/ACm9RR5TeooAZRT/ACm9RR5TeooAZRT/ACm9RR5TeooAZRT/ACm9RR5TeooAZRT/ACm9RR5TeooAZRT/ACm9RR5TeooAZRT/ACm9RR5TeooAZRT/ACm9RR5TeooAZRT/ACm9RR5TeooAZRT/ACm9RR5TeooAZRT/ACm9RR5TeooAZRT/ACm9RR5TeooAZRT/ACm9RR5TeooAZRT/ACm9RR5TeooAZRT/ACm9RR5TeooAZRT/ACm9RR5TeooAkj/1Yp1Ig2qAaWgAooooAKKKKACiiigAooooAKKKbL5nkv5O3zNp2b+me2fagB1FcD4PsdS0/wCI+vJreqNqd5Lp1pLJJsCRxkvMNka/wqMd8knJPWu+p2DrYKKKKQBRRRQAUV5fF4ftfE3h3xB4k1HzDrCXV4LK8WVg9ksDskYj5+UfJkgdSTnNd34d1R9V8I6ZqkqkyXVlFcMqjqWQMcD8aOl/T8f+GB729fwNWivFdE0ew0Wy07X/ABb4EWIzXQmudUlnH2iCaSYlXeHsoZlGc5HdRWldx+Hp/E3iBPGv2k62blhpYPmeYLfYvlm12985yV5znNJ6b/1a346gesUV402o/wDCSQeEJvEGnXHiQTaU8k+k23LeZkAXLqSqEcMvzMMFvlB5wef5vw6sLaeW4uYG11420ISSfaWhyxFkc/MWQEMQSFwuN23BqrdP63t/X+Yf1+F/6/yPZaK8ehv5NF0bxmNDt7jw8qQwLa6VccSWzOSjXCgEqFYsMbGIyhzg10F34f0/wT4i8NXHh+NrU314bG9AkZvtQaJ2DyZPzOGQHd15Ipdf66h38j0GivLPE3hew0TS4BbzSX3ji+uA1nfqzLcSSb8lsZO2FV4K/dAGOpr1IZ2jPXHNHS4dRaKKKACiiigAorhrrR7Pxf8AEPVbPxBCLyw0u0txb2rsdgkl3lpCo6tgKAe3OMVf+Hl1NLoF5ZTzST/2XqVzYRyytudo45DsyTySFIGT6ULX+vOwPT+vK51VFeZ/Ee8uNf0PU47CZ4tK0mWMXEqH/j6uBKo8oH+4mct6tgfwtUvjlLS78d6da6lpdz4jtVsZHOkWvzGJ93E7qxVCCAVG5gc9AecLt5/5XDq/I9HorznwroWieI/h/EPFEEd9b2NzcNHb3jOz2ChjiFy2G3IuAc/hkYNZvhvw7bab4H8ReKvD2jfZrrV7OX+zrO1RiywbSIht6lmOHP1A7UPS/krjSu0vOx6xRXlfhfRNG8J69oi6j4Kh0i4uFEFnqa3IldpvLOVlUfcZlDdCw7ZrnmMH2R9SSxvBqf8AbHHjHcxtxH5/97O/y9n7vbt8vP8AFjmqt71v63Jv7tz3WivLtVTw7N471pfiB5jSkxjRll8wqYfLXPkbesnmbs7fn6Yrqfhzql1q/gOwudQaVrhWlgZpjmRvLlaMFv8Aawoz75pLVXG9GdRRRRQAUUUUAFFcj4zh/tXXvDugXLN/Z99PNJdxqxXzkijJEZI/hLEEjviofDVrD4e8fat4e0xTFphsoL6C2DEpA7O6OEB+6p2qcDjOfWhau39f1uD2v/XY7SiuN+Jtjq974Q1D+z9V/s6yhsbiW68pMzTbUJVFY8Kpwdx6kcDGao+LrG41XwP4c02DSptUhubi1+1QR8KYkTed7HhVJVQSfXueClr96/Eb0/H8D0CivLrBLPQdH8UaXpHhFdE8QLprTLbWUhuBdIQyxsjAAthsggqCKZ4X0TR/CmvaIuoeCotIubhRBZ6mtyJXabyzlZFH3GYBuhYds1S3/rzE9F/Xl/meqUV4rDo9nZ29z4l8XeA/PhfUJ7i61CebbcQoZm2P5PUoq7e4PUhSOux4k0CTxB481S9ufBq+ILa2tLeK1a6uBbxkfO7+WxB3sS4HYccsKnomPq1/W56lRXkFzqen+Ib3w7oWg6JNd6SdOluU0lpfIi8xZBHtnPPyoQ4xhssRwa6/4em1t7bVNOt7W602ezu8T6ZNOJo7QsgIELAf6th8w9yeB0qlr/XZ2J2/r5nYUUVi+MdTn0bwTrOo2hxcWtlLLET2YKcH86luyuUld2NqivNbzw/Y+DI/Der6SJY7+a/trW+n81ma9Wb5WMuT8x3EMCemOKo/2LBq3w+1jxldGQeIFN3d218sjb7YQu/lonPCgIAV6HJzmm7K7fS/4W/zFH3rJdbW+d/8j1iisfStW1DUZLNjpu2xuNOjuvtvnr/rW/5ZeX16HO7p2rl/D1hq1l8VJ31/Vf7Qu7jR/MKxpshgHnY2Rr1xx1Jyadmpcr8/wv8A5E8y5eZeX42/zPQKK8r8faBHpen6jq01pf6nq9xI8sGsRAqukIMbPusWCIOTsU7sHcOa9OspVnsLeVJluFkiVhMnSQEZ3D2PWktVf+v6/pFPR2JqKKKACiiigAooooAKKKKACiiigAooooAxLXRriDxxqWsu8Rt7qyt7dFBO8NG0pJIxjHzjHPrW3RRQHW4UUUUAFFFFAHC3PhTxJbRatpGh3mnRaPq00srTTB/tFp5v+tCKBtfJJIJK4J710UGn31pNBptqbaPQodP8gFWcXKyjCrgj5Qu3PPXOK2KKLaW/rt+AdbnBt4U8VajpNv4d13UrG40iGRPOvQZGu7uNGDKjqRtUnADNubPPAzV7UdI8XR32pRaJqdk1jqTblkvmkaWwJUKwjUZDjjcASuCT1rrqKN9wWmxxS+D9R8O3ljd+DXs5DBp8enTW2os6LLHGSUcOgYqwLNn5SDntiq6+BtXhEesQX9o3iJdRfUH3xsLV98QiMX94LsC/NycjOOcV3tFF3/Xrf8w/r8LfkcRL4K1DxCdXuvFVxaw3WoWAsIYrAs6WyBi4fcwBdt5B6ADGPeprfQvE2o6vpt14nn0wxaQWlt0sjJ/pMxQoJH3D5AAx+UbuT14rsaKA/r+vuPNtE0D4g6TfXeoz2/hm+1O8Y+dezXlxvCZysajysKi9lH1OTXpIzgZ696KKOlg63CiiigAooooA5bVNE1u18UTa74WfT3lvLZLe7tr9nRTsLFJFZATkbyCCORjkU/SND1fw/olna6fcWd1cy3zXOqT3KuokWRmeUxhejZIC54wOa6aihaA9f6+Rw/in4XeHtY0i8XTdD0uHUrhg4uXhCndvDMSwBPIz+dWLjwtqOia4mpeCY9NjRrRLObT7stFEERmZGRkVipG9hjBBz2xXYUUbbB6nFSeDdUPgXX9OF7bvrGuySS3EwDRwo0gVCq9TgIoAPUnnjNdFqejm88MzaTYXc2msbcQwXFsxVoCB8pGCOmBx3HFadFHS39abB1v/AFqcbH4e8R63qWmSeLptMFrpcnnpHYGRmuptpVXbcBsADE7Ru578Vn/8IZ4lHhlvB4vNN/sEr5AvMP8Aahb5/wBX5eNm7Hy793vtzXoVFAHK3+l+K7PVbqXw3fWMlpeRovlai8h+xOq7d0YUEMCMEqdvIznmtfw7okXh3w9Z6VBI0y26YaV/vSMTlmPuWJP41p0UAFFFFABRRRQBgeJ9DvdSk07UNGmgh1PS5zNB9pBMUqshR42xyAQeozggcGqWn6J4gt5NZ1y5l01tfvoFhtYQZDawLGGKKWwGYFmJY4HsOK6yigDK1vTrvV/B+oabuhW8vLGSDdkiMSMhXPQnbk+mcVQ1PRNYbR9J/sTUUttQ0zYfLkZ/s90Am1o5AvO05yDg4IBxXSUUd/62Dol6/icYPCWsarNqupa3qUdhql5ZiytW0t322SBi2Q52s7FsE8LwMU6Lw/4k1nVNLl8Wz6attpUv2iNLAyFrmYKVV23AbANxO0bue/FdjRQBwU/hTxXeaLN4YvdVs7jRpmKSahK0j3r25bJjII2lsfLv3dOdua0brSfFWnaxdz+GryxuLK8RMW2pyS4snVQuYtoOVIAJT5eec811lFAHCQ+BL/QE0i98NXlvNqdhDNDc/bgyR3qzP5khJXJQ7/mGAcdK2/C+hXmmTalqWsTQS6nqs6yzi2BEUYVAiIueSAB1OMkngV0FFP8Ar9QCqer6bBrOi3mmXefIvIHgkx1wwIP86uUVLSasxptO6OJtPDXiW9n0i28SXemvp+jyrOj2gfzbx0BEZdWGEAzuIBbJHYVXn8G+IY9M1Dw3pt5p8egahNKxncP9pt45WLSRqoG1uWbDEjGehxXfUU3rv/X9WEtNv6/q5nQQ6jb6skEQs10WO0VEHzeeJg2P93Ztx75qt/Y9x/wnf9tb4/s39m/ZNmTv3+bvzjGMY9/wraoo63/rW/8AmKytb0/C3+Rxd7oXi8R6lplhqdjNpuoPIyXV80jXFmkn3kVcbXAyduWXHAwcV1OladDo+j2em2m7yLOBII9xydqqFGfwFW6KForf1oN6u4UUUUAFFFFABSMdqk0tNk/1ZoAb53+z+tHnf7P61FRQBL53+z+tHnf7P61FRQBL53+z+tHnf7P61FRQBL53+z+tHnf7P61FRQBL53+z+tHnf7P61FRQBL53+z+tHnf7P61FRQBL53+z+tHnf7P61FRQBL53+z+tHnf7P61FRQBL53+z+tHnf7P61FRQBL53+z+tHnf7P61FRQBL53+z+tHnf7P61FRQBL53+z+tHnf7P61FRQBL53+z+tHnf7P61FRQBL53+z+tHnf7P61FRQBL53+z+tHnf7P61FRQBL53+z+tHnf7P61FRQBL53+z+tHnf7P61FRQBL53+z+tHnf7P61FRQBL53+z+tHnf7P61FRQBL53+z+tHnf7P61FRQBL53+z+tHnf7P61FRQBL53+z+tHnf7P61FRQBL53+z+tHnf7P61FRQBL53+z+tHnf7P61FRQBL53+z+tHnf7P61FRQBL53+z+tHnf7P61FRQBL53+z+tHnf7P61FRQBL53+z+tHnf7P61FRQBL53+z+tHnf7P61FRQBYU7lBpabH/qxTqACiiigApsn+rNOpsn+rNAEFFFFABRRRQAVT1e0ub/AEa7tLG9awuJ4mjjulTcYSRjcBkcj61crP12PVJdBvI/D8lvFqTxlbeS5JCIx/iOAenXoeaT2Gtziv7D0rRvHWiWHhCFotRhYyatJFIxBtijf68knczPtK5+bgnpXotcP4R0XxZ4f8m1uLLQBaySeZe3UV3PJczufvSEtGAzE+px6cDFdxVdCeoUUUUhhRRRQB5lFoNr4l8P6/4j1DzDq6XV4LK7WVg9msDskYj5+UfJkgdSTnNdvoOri/8AB+naxeusQnsY7mZ2ICrlAzE+g61ztz4W8R28Wq6Tol5p0WkarNLK00wfz7Tzf9aEUDa+SSQSVwT3reGkTDytIaCxl8OLp/2d4ZQxmZxhQP7pTZnPfNJX5ben4J3/AE9QfxX9fzVv66HJ+de6v8QPDGuXLSw2dxJcpY2jcYi8knzWH95+oHZdo65pnj7wd4bnmhgt9DtJNd165MMdw6kmPgtJMRnnaoJ+u2tG8+F3h19e0i7sND0uC2tZJHuUEIBkyhCYAGDhsHnFbkui3E/jy31qVojaWunvbwpuO8Su4LNjGMbVAznPXinZNpf13/ELtXf9f0jjvEfhFH1bQNEsvDJ1fSdL06Xy4riYxQCQsirvkwfmwrHABPPQDmqN/NpH/CG2um6bpEmnLDrQg1Dw/A58y6faS0SleGBBV85CkLyRXdazp/iBNch1Tw5d28g8gwT6ffyyLC3ORIpUNtcdD8pyPTFYq+B9UgWLV4L+1fxGt+9/I0kbC3kLx+WYscsFCAANycjOOcULz/r3r/l/XQH5f1p/mcwdY/4RnQvGc2lW1zoMMMVuLfSZR+9tmc7GnRQSoUlhjYxGUOcHitXRdPs9C8U6PJPoF3oTXhaKG8S+EzXrFCfLu1x94gFgctyPvDpWvP4Kv/EX9rXPim4tobm/sRYwx2BZ0tkDFw25gC7b8HoBxip7fQfEep6rpU3im4037PpMhmjFjvLXUuwoHcMAEADE7QW5701ur/1/X622E9n/AF2/X/PcoXVhq0PxW0O81XVPPima8W2s4U2RQRiP5Se7OQeSfoBiu+rG1LSLi88UaJqUTxiHT/P81WJ3NvQKNvGOo5yRWzS6WDq2FFFFAwooooA4i60iz8W/EDVLTX4Rd2Ol2luLe1djsEkm8tIQP4sBQD25xir3w/uZpNBu7KeaSf8AszUbmxSWVtzMkch2ZJ5JCkDJ9KXVNF1u18TTa34YeweW8tkt7q3vy6KdhYpIrICcjcQQRyMcipNJ0TVtA0WztdPuLO5uZb5rjU57hWUSCRmaUxhejZIC54wOaI/163/r7wl/Xpb/ADOZ+Il5ca9ompR2MzxaXpUsYnlQ/wDHzcCRf3QP91M5b1bA/hNWPG+iT+IPGlhDL4bGt2dpp8rqtxL5NuJXdBzJg/MFQ8AH73Yc1c8T/DHQNX0m8XTtE0yHUbhg4uHhAOd4LEkAnkZ/Ort3oOsaTqNvc+DpLNLNLYWz6VdyPHbqASVkj2BtrckH5eRjpikul/60Dq7f1qcVd6np7aTonhzRNDubGK41Oa3v9Ht5QjeZGm4xGQNjYxKsWB5UdOcVetRBoum+K9PgibwjfrpvnCBbrzbOMEMq3ERChlOeGAAOQMAnk63/AAgmoRWcOoW+oW7eI49RfUmneJhBI7p5bRYzuCbMKDyeM+1Pn8Fah4gXV7rxLc20F9f2iWcC2O547VEcupywBclzk8AYAHvQ9U/66dPn/XUeiat/Wv8Akc54ZS3s/Ffh/wDszRL3wyZ7aX7S16SF1NtmVUcnc4OXy+18A8dcZL3mjab4Nu9Ska6Xx7Z7p7lm8z7Ssqtk7u3kY4/uFfevQY9E8SavqulzeJ5dMittLm+0ItgZGa5lCsqltwGwAMTtG7nvVWfwt4mv9Pbw9qOpWk+iPMTJdu0jXksO/d5JB+X/AGS+48dqrr/X9f8ADdyVotf6/r+tCn488NeHJ7Nb46BZ3evazLHbWzzAnMrLje3PIRQWPstdl4c0Gz8MeHbPR9OBFvaptBY8sScsx9yST+NVb/Q573xlo+plovsWmwTgRknf5rhVVgMYwFDjOe9btC0Wn9f1+odrhRRRSGFFFFAHJeMYv7U1zw9oNwW+wX000l3GrFfOSOMkISP4SxBI74qLw3aw6B471XQNNUxaabKC9htgxKQOzOjhAegO1TgcZz61qeJtEvNSk07UNHmgi1LTJzLB9oBMcgZSjo2OQCD1GcEDg1TsNF1+CTWNbuJdObXr2BYbaIGQ20CpuKKWwGbLMSxwPYcULTX+v6/yB6r+u/8AX3kPxKsdWvfCV/8A2fqn9n2cNjcS3XlJmabamVRWPCqcHcepHAxmrU/h8eIvDmiW1zdPHYRpHJdWygj7WojwEZgRhdxBI5zjFaWtafdat4Rv9O3Qrd3djJBuyRGJGQrnoTtyfrisHxXoHiPUfDOm6Roc1isaBE1BZ7iSLz41UDy1ZEJCsevQ447mltden6j3s/X9DL0LSkvb/wASWfgq6fS9Dkt0t4biAFokust5rwLkAYXaCVIG4eoNOTRdK0f4gaRYeDYfIu4Az6u0TsVMBjIXzsn5nZ9pXPzcE9K04rPxvH4avLC1t/DumzrbiLTzaTSmOI5xkgx8ALyMA84zUHhPRvFnh+OKzksfD62rMXuZ4ryeS4nkI5di0Y3MTjJJ6dOgFPr/AF/X/A0F0/ry/r11MfxL4YsdF0yAW80l942vbgNZ36syzvJvyWxk7YVXqv3cDHU1t+JfDmgo+o6943mW+t9qrbRShgLUBQNsQB5kZucgBskAdKzdF0Hx9pV9dahPb+Gr3Urxj515Nd3G4JnKxqPKwqDsB9Tk1Z1XQPGN142fWIodBvbW3AGnQXtzMv2Y4+Z9qxkFyf4snA4HelbRL+kPq3/TF0vwtPq3hjRJfHFzJJa2Vo7XFhdtkOxOUeZs4YogwQQRkk9qt/DpALXVZNOWVNBkvM6SkjEjygihimeRGX3FR6dOCKp+JdC8aeII9Ljli0KS1hBkvrGS6mWK4k3fICRHlkAwcHGT1BArqdB/t37NIviKDTYHUgQrp0ruu3Hfeq4/Cq6t/wBb/wBfInokatY3i/Up9H8F6xqNocT2tlLLET2YKcH862aqatpsOsaPeabd58i7geGTHXDAg/zqJaxZcbKSucHd6BZeDo/DmraUJI76W/t7W+n81ma9Wb5WMmT8x3EMCemOKo/2NBqvgHV/GF0ZBrym7ura9WRt9sInfy0TnhQEAK9Dk5zXQ2vhzxJez6TbeI7vTn0/SJVmR7UP5t46AiMurDCAZ3EAtkjtVefwf4gj03UPDunXmnx6DfzSsZ3D/abeOVi0kaqBtblmwxIxnocVUru9vO34fd1ZMdLc3lfz3v69P6R0mlarf6hJZsdN22Nxp8dz9t85f9a3/LLy+vQ53dO1cz4fsNVsvilM+vap9vu7jR/MKxpshgHnY2Rr1xx1PJrroIdQt9VSGIWi6NHaBEHzeeJQcf7uzbj3zVb+yLj/AITn+2d8f2f+zvsu3J37/M3ZxjGMe9VpzprbX8mTZ8lnvp+aOH8eaDHpen6hqs1rfanq1xI8sGrxgqukoMbPusWCIOTsU7sHI5r0uzlWexglSZZ1kjVhKnSQEfeHsetcneaH4uEepaZYanZTadfvIVur1pGuLRJPvIq42uBk7csuOBg4rp9L06HSNIs9Otd3kWkCQR7jk7VUAZ/Kpj8NvT+v63Kl8X3/ANf1saUf+rFOpsf+rFOoAKKKKACmyf6s06kYblwaAK9FTeUvqaPKX1NAENFTeUvqaPKX1NAENFTeUvqaPKX1NAENFTeUvqaPKX1NAENFTeUvqaPKX1NAENFTeUvqaPKX1NAENFTeUvqaPKX1NAENFTeUvqaPKX1NAENFTeUvqaPKX1NAENFTeUvqaPKX1NAENFTeUvqaPKX1NAENFTeUvqaPKX1NAENFTeUvqaPKX1NAENFTeUvqaPKX1NAENFTeUvqaPKX1NAENFTeUvqaPKX1NAENFTeUvqaPKX1NAENFTeUvqaPKX1NAENFTeUvqaPKX1NAENFTeUvqaPKX1NAENFTeUvqaPKX1NAENFTeUvqaPKX1NAENFTeUvqaPKX1NAENFTeUvqaPKX1NAENFTeUvqaPKX1NAENFTeUvqaPKX1NAENFTeUvqaPKX1NAENFTeUvqaPKX1NAENFTeUvqaPKX1NACx/6sU6kUbVwKWgAooooAKKKKACiiigAooooAKKKqarp6atpN1p8s00CXUTRNJA211DDBKnBwaHtoNb6jLHW9K1SeaDTNTs7yW3OJo7e4WRoz/tAE4/Gr1ecXVkui/ETw0JNHt9J0q3aSzsbu0Ks1w7RkLFKAFKKcEgfNlgORXo9PpdE9bBRRRSGFFFFAFK41rS7TUYdPutSs4L2f/VW0k6rJJ/uqTk/hV2vNNN0fT9b8B+Kr3UraGe7vLy/Mk7IC6GJ3SPDdRtCLj0rs/C91PqngnSLq7Z1uLrT4ZJGB+YM0YJP1yaFqvu/G/8AkD3t6/gWodb0q41STTYNTs5b+IZktUuFMqD3QHI/Kkvdd0nTbyG11HVLK0uZ/wDVQz3CI8nOPlUnJ/CvPfEeixeFx4fhi0tIND02/glm1lXV7oOWwS4wpw7MA7gkkE/L3qtqlrfX2seNW0Lw9a69BdMIJ7m7ZUeKRYlVoowc+aF4bBMY3EjJ60r6X9fwt92/X9R21t6f1/X6HrJIVSWIAAySe1V11GyfTRqCXlu1kU8wXIlUxlf727OMe9eaz+K9AvtC0nwz/wAJJbwWJ02KW+u725WCWeLZhYgGIO58Hdj7q57sDWPZ6imq+Dvh3o2kiy1RZHKz27zAxLLFCWUShcnC537Op2iqa1aXf/gCW132/S56/Y6vpuqWbXemaha3lspIaa3nWRBjr8wJFU7Hxd4b1O8S003xDpV5cyZ2Q297HI7YGThQ2TwCa4sw6jFdeK9HXS7BfEt1pAkhuNNZoYrtDvRNyOxCOrEjJJyCOeMVZ05L3whqWhWusaToiWl6y2ME9hERNazeWdoZm/1gIUjcAvPaktX/AF5g9F/Xk/1O0OvaQNWGlnVbIagelp9oTzvX7mc/pV+vM/Emg6TbaLH4L8P24vNcupRcfaXVWmtiZNzXcsgAwRzjuxwB3r0sDCgE5460dLg9xaKKKACiiigCnqOsabo8SS6vqNpYRyNtR7qdYgx9AWIyato6yIrxsGVhlWU5BHrXG2lla6t8U9dbUoYbr7DYWsFvHMgYRrJ5jOQD/eIAP+7Unw3PlaDqNggK2+n6vd2tsp/hiWU7VHsM4HsKFr/XnYHp+X4XOpuru2sbdri9uIreFcbpJnCKMnAyTx1IFRajq+m6PAs+r6ha2ETNtWS6mWJSfTLEc15N8QvFGi+I7LVI5dcsYrfSZkjt7M3iLLc3CyKHkKZztQZCjoTuboFNd7qWm2uqSr4m0i3tteuvsnkWcUtyv2bYzZZ1YK2CRwSM5AA4pdL/ANf0w+1Y3LvVdPsNO/tC+v7W2ssA/aZplSPB6fMTjnIxUOmeING1syjRtXsNQMIBk+yXKS7M9M7ScdD+Vea6VpWo6r4F03SdMsoXnsdfdtTtLohIbQqzSeWFBbdGGaPaFzkY6Z43rK2kvrzV/Bev2lnYz3NkJhe6LH5AngZihGG3FWB4PLcNxin/AEvuT/r0Db+vO39ep11hrukarcSwaXqtlezQ/wCtjt7hJGj/AN4KTj8aVdb0ptVOmLqdm2oKMm0Fwnmgf7mc/pXGtaWGq+OdIt/CVpBDF4feQXt9bxhUQGMoLZSPvHJDMOi7RnniuUv0Oh/Cy+0648M3kOv6eGuZNRNsBGZlbf8AaVuOjE9gDu524xQv6/r+vu1Cz2/r+v68j17Uda0vRxGdX1KzsBKdsZup1i3n0G4jNXFYOoZSGUjIIPWvLLOLW/EHjLxTPZ6fo801s8VqJtVjaUGPyVbyUVcbQWZmLZP3hwcV2fgK7srzwPp0mm2bWNuiNELUymTyWRyrIGPJAZSAfTFHT+v6/r71e+x0NFFFAwooooAKqajq2naPbifVr+1sYS20SXMyxqT6ZYgZq3XGi1t9V+Ll6uowxXC6fpEP2aOVAwQyySeYwB7kRqM+lHWwdLnYRSxzRJLC6yRuAyuhyGB6EHvTJ7mC1RXupo4VZ1jVpHCgsxwqjPckgAdya5X4eqLaDX9NgTy7TT9ZnhtkHRIyFfavoAzsAO1ZnxD0DztS0nWbq/upRBq9glrZ7tsMJM6Bn2j7zHJGT0B4prVx87fiHfyv+B31xcwWkJmupo4YlIBeRgqjJwOT7kCi4uYLO2kuLuaOCCJS0ksrBVQDqSTwBXBfFLQTeaWuq3OoXTRWc9oILFG2xCQ3KAyNjlzg4APA54yaX4vaB/angvU7y5v7pbaysnkSyibZHJKOQ7kctjjC9M880lr95SV3Y72WaOGF5ppFjiRSzO7AKoHJJPYUnnw/Z/tHmp5Ozf5m4bduM5z0xjvXHfErQTrPgm+kn1C6htLTT7iZ7SBti3DiPKb2HJVSM7ehPXpUXijQP7d+HEP2jULqCzttKaSW1gbYLlhECodhztBB+UYznnpUydoyfb/g/wCQorm5fP8A4H+Z28c0c0CzRSI8TqHWRWBVlIyCD3GO9Jb3EN3bx3FrNHPDKoaOSNgyuD0II4IrkpdB/wCEh+HWkWst/dWtothE1xFbNsNyvlD5GbqF9cYJ6Zq78Ov+SZ+HP+wbB/6AK0cbOS7P/P8AyIjK8Yvv/wAD/M6SiisHx1eT6d8P9du7RzHPDYTPG46qdhwfwqG7K5cVd2NG01rS7+9ms7HUrO5urf8A10EM6u8f+8oOR+NEutaVBqkemzalZx38gylq86iVx7JnJ/KuJ1zR9P8AD2k+D7nRrOKCe01K0t45IUCs0cvySAkckEMSfUjNZ1vpVjqPwb1/VbuGKXULg31691tHmLNHJJ5ZDdQU2KB6Ypyajd9r/hb/ADFH3rJdbfjf/I9UqP7TB9q+zedH9oKeZ5W4b9ucbsdcZ4zWTo1zrN79huZxaDTp9NikYfN9oFwcE/7OzafrmuZ8PaB/YfxWnM1/daleXWjebcXVy2S7efgBVHCKB0UdKdrT5X5/hf8AyJ5rw5l5fjb/ADOyn1vSrXUotOudTs4b2b/VW0lwqySfRScn8KvV5v478MPZeGNY/srR01L+0nkudQvp5Fa4txxzEpA3lFB2ruXG0dc132l3UF9o9ndWcxnt54Ekilbq6lQQT9RSWqv/AF/X5lPRlqiiigAooooAKKKKACiiigAooooAKpaxpVtrmi3el3wY293E0UmxsMAR1B7Edau0UPXQFocnaeD9Rl1HT5/Eevtq0Olv5tpCtosP7zBUSSEMd7AE4xtGTnFdZRRQAUUUUAFFFFAHG33gS8mk1K10/wAQS2Oj6rK0t5ZLbK75f/WeXIT8gfvkNySRjNbw0iZb6NI7wLoyWRtTpogXBbIw/mfeGFBXb05zWpRR0t/XYOtziYfh/dmztdIv/EEt34fs5EaKxNsqyOqEFI5Js/MoIHRQTgZJq1c+D9Th1DUJPD3iJtLtdSkM1zbtaLMVkIAZ4mLDYSAOoYZ5xXWUUbgZeneHNM0vRbfTLW2jMNtCIY2kUM2AMZJPU1iL4Bji8JaPpdtqDW1/o5SS11GGFQRIFKklCSCGBIKk8jvXX0UPV3DZWOSXwIt/b6sfE+ovqd5qtutrJPFEIFhiUkqsaZbbhiWySST+VLaeENTfULG68Q+ITqv9mZayjFmsKrIVKiSTDHewBPTaOScV1lFAHn2jeA/FmhrcfYvGloZbqYzXE8uiBpJnJ6sxmycdAOgHAr0EdBnk0UUdLB1uFFFFABRRRQBzmseGb241z+2fD+sf2TfSW4trgvai4jmQElSVJXDKWODnvyDT7DwzPo+jafYaNqskHkXf2i8mlhWV70MzNIrZxtLM2dw6YwK6CihaA9f6+RieJPDFr4g0G505RDbPOVPniAMVw4bpxnOMde9VtV8L3UmtJq/h3VF0m98gW0we2E8M0YJZcpuXDAk4IPc5BrpKKAOOb4exJpcAtNVuItZgvW1Aaq0aszzuNrlk4BQqdu0Y4A54zSS+CdSnstWnl8Rt/bupW62o1JLQKttCCTsjjD5GctyWJyc54ArsqKLX/r5Bs7/13/M4/wAM+FPEXh5bK0/4SSxl0q1G02cOjiEuMf3/ADTg55JwSefWol+H0/krpUuuyP4cW488ab9mUORv3iIzZ5jDdtuccZxXa0U763FbSxy2o+E9Q/ty81Pw3rp0iTUEVbyNrVZ0cqNqyKCRtcDjPIOBkcVs6Fo1t4f0S20uxLtDbpgPI2Wck5ZmPckkk/WtCilsrDCiiigAooooAK57W/DV5ea1FrOhat/ZWorAbaR3thPHNFncAyEqcg5III6nrmuhooA52w8MXWkaPb2elaxJFP8Abvtl9dSwJI14WbdKpHAXd0BH3QBirviHRP7es7WD7R5H2e+t7vds3bvKkD7eoxnGM9vQ1q0U7/1/XoBleJdE/wCEh0KTTvtH2ffLFJ5mzfjy5VfGMjrtx170vibRf+Ei8L6ho/n/AGb7bA0PnbN+zPfGRn8xWpRSGm0UNZ0z+1/Dt/pXneT9stZLfzdu7ZuUruxkZxnOM02bSfO8LyaP52N9mbXztnTKbd2M/jjNaNFJpNNPr/X6gna1un9foUrHTvseg2+m+bv8i2W38zbjdhQucZ9umai8OaR/YHhnTtI8/wC0fYbZIPN2bd+1QM4ycdOmTWlRVNttvv8A1+pKSSSXQKgvrODUdPuLK7TzILiJopUP8SsMEfkanoqWk1ZlJ2d0chp/gm+iu9NGs+IJNTsNJcSWVs1ssbbgpVGlcE+YVBOMBeeTk1DdeALmZL3TbbXpbfQNQnea508Wyl/nbdIiS5+VGJORtJ5OCK7WimIoJZXketCdL8Lpq2ohXTxAvEgbPmeZ1+78u3p3qL+xf+Kv/tz7R/y4/Y/I2f8ATTfu3Z/DGPxrUoo63/r+tQtpb+tP+GONufA1/wD8TCz0vxHLY6PqUry3FoLZXkQycyCKUn5A2ScFWxk4xXV2VnBp2n29lZxiK3t41iiQfwqowB+QqeijZWDd3CiiigAooooAKKKKACiiigAooooAKKKKACiiigAooooAKKKKACiiigAooooAKKKKACiiigAooooAKKKKACiiigAooooAKKKKACiiigAooooAKKKKACiiigAooooAKKKKACiiigAooooAKKKKACiiigAooooAKKKKACiiigAooooAKKKKACiiigD/2Q==)"
      ]
    }
  ],
  "metadata": {
    "accelerator": "GPU",
    "colab": {
      "collapsed_sections": [],
      "name": "Homework2.ipynb",
      "provenance": []
    },
    "kernelspec": {
      "display_name": "Python 3.10.4 64-bit",
      "language": "python",
      "name": "python3"
    },
    "language_info": {
      "name": "python",
      "version": "3.10.4"
    },
    "vscode": {
      "interpreter": {
        "hash": "916dbcbb3f70747c44a77c7bcd40155683ae19c65e1c03b4aa3499c5328201f1"
      }
    }
  },
  "nbformat": 4,
  "nbformat_minor": 0
}
